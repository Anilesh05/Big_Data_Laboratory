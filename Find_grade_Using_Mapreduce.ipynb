{
  "nbformat": 4,
  "nbformat_minor": 0,
  "metadata": {
    "colab": {
      "provenance": [],
      "authorship_tag": "ABX9TyOZjVdga3cmZTn9LnAUnH8i",
      "include_colab_link": true
    },
    "kernelspec": {
      "name": "python3",
      "display_name": "Python 3"
    },
    "language_info": {
      "name": "python"
    }
  },
  "cells": [
    {
      "cell_type": "markdown",
      "metadata": {
        "id": "view-in-github",
        "colab_type": "text"
      },
      "source": [
        "<a href=\"https://colab.research.google.com/github/Anilesh05/Big_Data_Laboratory/blob/main/Find_grade_Using_Mapreduce.ipynb\" target=\"_parent\"><img src=\"https://colab.research.google.com/assets/colab-badge.svg\" alt=\"Open In Colab\"/></a>"
      ]
    },
    {
      "cell_type": "markdown",
      "source": [
        "# ***Downloading and installing hadoop***"
      ],
      "metadata": {
        "id": "Zi9bK5z88-Pc"
      }
    },
    {
      "cell_type": "code",
      "execution_count": 1,
      "metadata": {
        "id": "Gp7HsNH56ldg",
        "outputId": "d46c0833-4d42-4eb1-e26d-d084838a83d8",
        "colab": {
          "base_uri": "https://localhost:8080/"
        }
      },
      "outputs": [
        {
          "output_type": "stream",
          "name": "stdout",
          "text": [
            "Reading package lists... Done\n",
            "Building dependency tree... Done\n",
            "Reading state information... Done\n",
            "The following additional packages will be installed:\n",
            "  fonts-dejavu-core fonts-dejavu-extra libatk-wrapper-java libatk-wrapper-java-jni libfontenc1\n",
            "  libgail-common libgail18 libgtk2.0-0 libgtk2.0-bin libgtk2.0-common libice-dev librsvg2-common\n",
            "  libsm-dev libxkbfile1 libxt-dev libxtst6 libxxf86dga1 openjdk-8-jdk-headless openjdk-8-jre\n",
            "  openjdk-8-jre-headless x11-utils\n",
            "Suggested packages:\n",
            "  gvfs libice-doc libsm-doc libxt-doc openjdk-8-demo openjdk-8-source visualvm libnss-mdns\n",
            "  fonts-nanum fonts-ipafont-gothic fonts-ipafont-mincho fonts-wqy-microhei fonts-wqy-zenhei\n",
            "  fonts-indic mesa-utils\n",
            "The following NEW packages will be installed:\n",
            "  fonts-dejavu-core fonts-dejavu-extra libatk-wrapper-java libatk-wrapper-java-jni libfontenc1\n",
            "  libgail-common libgail18 libgtk2.0-0 libgtk2.0-bin libgtk2.0-common libice-dev librsvg2-common\n",
            "  libsm-dev libxkbfile1 libxt-dev libxtst6 libxxf86dga1 openjdk-8-jdk openjdk-8-jdk-headless\n",
            "  openjdk-8-jre openjdk-8-jre-headless x11-utils\n",
            "0 upgraded, 22 newly installed, 0 to remove and 45 not upgraded.\n",
            "Need to get 50.1 MB of archives.\n",
            "After this operation, 169 MB of additional disk space will be used.\n",
            "Get:1 http://archive.ubuntu.com/ubuntu jammy/main amd64 fonts-dejavu-core all 2.37-2build1 [1,041 kB]\n",
            "Get:2 http://archive.ubuntu.com/ubuntu jammy/main amd64 fonts-dejavu-extra all 2.37-2build1 [2,041 kB]\n",
            "Get:3 http://archive.ubuntu.com/ubuntu jammy/main amd64 libfontenc1 amd64 1:1.1.4-1build3 [14.7 kB]\n",
            "Get:4 http://archive.ubuntu.com/ubuntu jammy/main amd64 libxkbfile1 amd64 1:1.1.0-1build3 [71.8 kB]\n",
            "Get:5 http://archive.ubuntu.com/ubuntu jammy/main amd64 libxtst6 amd64 2:1.2.3-1build4 [13.4 kB]\n",
            "Get:6 http://archive.ubuntu.com/ubuntu jammy/main amd64 libxxf86dga1 amd64 2:1.1.5-0ubuntu3 [12.6 kB]\n",
            "Get:7 http://archive.ubuntu.com/ubuntu jammy/main amd64 x11-utils amd64 7.7+5build2 [206 kB]\n",
            "Get:8 http://archive.ubuntu.com/ubuntu jammy/main amd64 libatk-wrapper-java all 0.38.0-5build1 [53.1 kB]\n",
            "Get:9 http://archive.ubuntu.com/ubuntu jammy/main amd64 libatk-wrapper-java-jni amd64 0.38.0-5build1 [49.0 kB]\n",
            "Get:10 http://archive.ubuntu.com/ubuntu jammy/main amd64 libgtk2.0-common all 2.24.33-2ubuntu2 [125 kB]\n",
            "Get:11 http://archive.ubuntu.com/ubuntu jammy/main amd64 libgtk2.0-0 amd64 2.24.33-2ubuntu2 [2,037 kB]\n",
            "Get:12 http://archive.ubuntu.com/ubuntu jammy/main amd64 libgail18 amd64 2.24.33-2ubuntu2 [15.9 kB]\n",
            "Get:13 http://archive.ubuntu.com/ubuntu jammy/main amd64 libgail-common amd64 2.24.33-2ubuntu2 [132 kB]\n",
            "Get:14 http://archive.ubuntu.com/ubuntu jammy/main amd64 libgtk2.0-bin amd64 2.24.33-2ubuntu2 [7,932 B]\n",
            "Get:15 http://archive.ubuntu.com/ubuntu jammy/main amd64 libice-dev amd64 2:1.0.10-1build2 [51.4 kB]\n",
            "Get:16 http://archive.ubuntu.com/ubuntu jammy-updates/main amd64 librsvg2-common amd64 2.52.5+dfsg-3ubuntu0.2 [17.7 kB]\n",
            "Get:17 http://archive.ubuntu.com/ubuntu jammy/main amd64 libsm-dev amd64 2:1.2.3-1build2 [18.1 kB]\n",
            "Get:18 http://archive.ubuntu.com/ubuntu jammy/main amd64 libxt-dev amd64 1:1.2.1-1 [396 kB]\n",
            "Get:19 http://archive.ubuntu.com/ubuntu jammy-updates/universe amd64 openjdk-8-jre-headless amd64 8u402-ga-2ubuntu1~22.04 [30.8 MB]\n",
            "Get:20 http://archive.ubuntu.com/ubuntu jammy-updates/universe amd64 openjdk-8-jre amd64 8u402-ga-2ubuntu1~22.04 [75.5 kB]\n",
            "Get:21 http://archive.ubuntu.com/ubuntu jammy-updates/universe amd64 openjdk-8-jdk-headless amd64 8u402-ga-2ubuntu1~22.04 [8,873 kB]\n",
            "Get:22 http://archive.ubuntu.com/ubuntu jammy-updates/universe amd64 openjdk-8-jdk amd64 8u402-ga-2ubuntu1~22.04 [4,068 kB]\n",
            "Fetched 50.1 MB in 8s (6,401 kB/s)\n",
            "Selecting previously unselected package fonts-dejavu-core.\n",
            "(Reading database ... 121753 files and directories currently installed.)\n",
            "Preparing to unpack .../00-fonts-dejavu-core_2.37-2build1_all.deb ...\n",
            "Unpacking fonts-dejavu-core (2.37-2build1) ...\n",
            "Selecting previously unselected package fonts-dejavu-extra.\n",
            "Preparing to unpack .../01-fonts-dejavu-extra_2.37-2build1_all.deb ...\n",
            "Unpacking fonts-dejavu-extra (2.37-2build1) ...\n",
            "Selecting previously unselected package libfontenc1:amd64.\n",
            "Preparing to unpack .../02-libfontenc1_1%3a1.1.4-1build3_amd64.deb ...\n",
            "Unpacking libfontenc1:amd64 (1:1.1.4-1build3) ...\n",
            "Selecting previously unselected package libxkbfile1:amd64.\n",
            "Preparing to unpack .../03-libxkbfile1_1%3a1.1.0-1build3_amd64.deb ...\n",
            "Unpacking libxkbfile1:amd64 (1:1.1.0-1build3) ...\n",
            "Selecting previously unselected package libxtst6:amd64.\n",
            "Preparing to unpack .../04-libxtst6_2%3a1.2.3-1build4_amd64.deb ...\n",
            "Unpacking libxtst6:amd64 (2:1.2.3-1build4) ...\n",
            "Selecting previously unselected package libxxf86dga1:amd64.\n",
            "Preparing to unpack .../05-libxxf86dga1_2%3a1.1.5-0ubuntu3_amd64.deb ...\n",
            "Unpacking libxxf86dga1:amd64 (2:1.1.5-0ubuntu3) ...\n",
            "Selecting previously unselected package x11-utils.\n",
            "Preparing to unpack .../06-x11-utils_7.7+5build2_amd64.deb ...\n",
            "Unpacking x11-utils (7.7+5build2) ...\n",
            "Selecting previously unselected package libatk-wrapper-java.\n",
            "Preparing to unpack .../07-libatk-wrapper-java_0.38.0-5build1_all.deb ...\n",
            "Unpacking libatk-wrapper-java (0.38.0-5build1) ...\n",
            "Selecting previously unselected package libatk-wrapper-java-jni:amd64.\n",
            "Preparing to unpack .../08-libatk-wrapper-java-jni_0.38.0-5build1_amd64.deb ...\n",
            "Unpacking libatk-wrapper-java-jni:amd64 (0.38.0-5build1) ...\n",
            "Selecting previously unselected package libgtk2.0-common.\n",
            "Preparing to unpack .../09-libgtk2.0-common_2.24.33-2ubuntu2_all.deb ...\n",
            "Unpacking libgtk2.0-common (2.24.33-2ubuntu2) ...\n",
            "Selecting previously unselected package libgtk2.0-0:amd64.\n",
            "Preparing to unpack .../10-libgtk2.0-0_2.24.33-2ubuntu2_amd64.deb ...\n",
            "Unpacking libgtk2.0-0:amd64 (2.24.33-2ubuntu2) ...\n",
            "Selecting previously unselected package libgail18:amd64.\n",
            "Preparing to unpack .../11-libgail18_2.24.33-2ubuntu2_amd64.deb ...\n",
            "Unpacking libgail18:amd64 (2.24.33-2ubuntu2) ...\n",
            "Selecting previously unselected package libgail-common:amd64.\n",
            "Preparing to unpack .../12-libgail-common_2.24.33-2ubuntu2_amd64.deb ...\n",
            "Unpacking libgail-common:amd64 (2.24.33-2ubuntu2) ...\n",
            "Selecting previously unselected package libgtk2.0-bin.\n",
            "Preparing to unpack .../13-libgtk2.0-bin_2.24.33-2ubuntu2_amd64.deb ...\n",
            "Unpacking libgtk2.0-bin (2.24.33-2ubuntu2) ...\n",
            "Selecting previously unselected package libice-dev:amd64.\n",
            "Preparing to unpack .../14-libice-dev_2%3a1.0.10-1build2_amd64.deb ...\n",
            "Unpacking libice-dev:amd64 (2:1.0.10-1build2) ...\n",
            "Selecting previously unselected package librsvg2-common:amd64.\n",
            "Preparing to unpack .../15-librsvg2-common_2.52.5+dfsg-3ubuntu0.2_amd64.deb ...\n",
            "Unpacking librsvg2-common:amd64 (2.52.5+dfsg-3ubuntu0.2) ...\n",
            "Selecting previously unselected package libsm-dev:amd64.\n",
            "Preparing to unpack .../16-libsm-dev_2%3a1.2.3-1build2_amd64.deb ...\n",
            "Unpacking libsm-dev:amd64 (2:1.2.3-1build2) ...\n",
            "Selecting previously unselected package libxt-dev:amd64.\n",
            "Preparing to unpack .../17-libxt-dev_1%3a1.2.1-1_amd64.deb ...\n",
            "Unpacking libxt-dev:amd64 (1:1.2.1-1) ...\n",
            "Selecting previously unselected package openjdk-8-jre-headless:amd64.\n",
            "Preparing to unpack .../18-openjdk-8-jre-headless_8u402-ga-2ubuntu1~22.04_amd64.deb ...\n",
            "Unpacking openjdk-8-jre-headless:amd64 (8u402-ga-2ubuntu1~22.04) ...\n",
            "Selecting previously unselected package openjdk-8-jre:amd64.\n",
            "Preparing to unpack .../19-openjdk-8-jre_8u402-ga-2ubuntu1~22.04_amd64.deb ...\n",
            "Unpacking openjdk-8-jre:amd64 (8u402-ga-2ubuntu1~22.04) ...\n",
            "Selecting previously unselected package openjdk-8-jdk-headless:amd64.\n",
            "Preparing to unpack .../20-openjdk-8-jdk-headless_8u402-ga-2ubuntu1~22.04_amd64.deb ...\n",
            "Unpacking openjdk-8-jdk-headless:amd64 (8u402-ga-2ubuntu1~22.04) ...\n",
            "Selecting previously unselected package openjdk-8-jdk:amd64.\n",
            "Preparing to unpack .../21-openjdk-8-jdk_8u402-ga-2ubuntu1~22.04_amd64.deb ...\n",
            "Unpacking openjdk-8-jdk:amd64 (8u402-ga-2ubuntu1~22.04) ...\n",
            "Setting up libice-dev:amd64 (2:1.0.10-1build2) ...\n",
            "Setting up libsm-dev:amd64 (2:1.2.3-1build2) ...\n",
            "Setting up libxtst6:amd64 (2:1.2.3-1build4) ...\n",
            "Setting up libxxf86dga1:amd64 (2:1.1.5-0ubuntu3) ...\n",
            "Setting up libfontenc1:amd64 (1:1.1.4-1build3) ...\n",
            "Setting up libxt-dev:amd64 (1:1.2.1-1) ...\n",
            "Setting up openjdk-8-jre-headless:amd64 (8u402-ga-2ubuntu1~22.04) ...\n",
            "update-alternatives: using /usr/lib/jvm/java-8-openjdk-amd64/jre/bin/orbd to provide /usr/bin/orbd (orbd) in auto mode\n",
            "update-alternatives: using /usr/lib/jvm/java-8-openjdk-amd64/jre/bin/servertool to provide /usr/bin/servertool (servertool) in auto mode\n",
            "update-alternatives: using /usr/lib/jvm/java-8-openjdk-amd64/jre/bin/tnameserv to provide /usr/bin/tnameserv (tnameserv) in auto mode\n",
            "Setting up fonts-dejavu-core (2.37-2build1) ...\n",
            "Setting up librsvg2-common:amd64 (2.52.5+dfsg-3ubuntu0.2) ...\n",
            "Setting up fonts-dejavu-extra (2.37-2build1) ...\n",
            "Setting up libgtk2.0-common (2.24.33-2ubuntu2) ...\n",
            "Setting up libxkbfile1:amd64 (1:1.1.0-1build3) ...\n",
            "Setting up libgtk2.0-0:amd64 (2.24.33-2ubuntu2) ...\n",
            "Setting up openjdk-8-jdk-headless:amd64 (8u402-ga-2ubuntu1~22.04) ...\n",
            "update-alternatives: using /usr/lib/jvm/java-8-openjdk-amd64/bin/clhsdb to provide /usr/bin/clhsdb (clhsdb) in auto mode\n",
            "update-alternatives: using /usr/lib/jvm/java-8-openjdk-amd64/bin/extcheck to provide /usr/bin/extcheck (extcheck) in auto mode\n",
            "update-alternatives: using /usr/lib/jvm/java-8-openjdk-amd64/bin/hsdb to provide /usr/bin/hsdb (hsdb) in auto mode\n",
            "update-alternatives: using /usr/lib/jvm/java-8-openjdk-amd64/bin/idlj to provide /usr/bin/idlj (idlj) in auto mode\n",
            "update-alternatives: using /usr/lib/jvm/java-8-openjdk-amd64/bin/javah to provide /usr/bin/javah (javah) in auto mode\n",
            "update-alternatives: using /usr/lib/jvm/java-8-openjdk-amd64/bin/jhat to provide /usr/bin/jhat (jhat) in auto mode\n",
            "update-alternatives: using /usr/lib/jvm/java-8-openjdk-amd64/bin/jsadebugd to provide /usr/bin/jsadebugd (jsadebugd) in auto mode\n",
            "update-alternatives: using /usr/lib/jvm/java-8-openjdk-amd64/bin/native2ascii to provide /usr/bin/native2ascii (native2ascii) in auto mode\n",
            "update-alternatives: using /usr/lib/jvm/java-8-openjdk-amd64/bin/schemagen to provide /usr/bin/schemagen (schemagen) in auto mode\n",
            "update-alternatives: using /usr/lib/jvm/java-8-openjdk-amd64/bin/wsgen to provide /usr/bin/wsgen (wsgen) in auto mode\n",
            "update-alternatives: using /usr/lib/jvm/java-8-openjdk-amd64/bin/wsimport to provide /usr/bin/wsimport (wsimport) in auto mode\n",
            "update-alternatives: using /usr/lib/jvm/java-8-openjdk-amd64/bin/xjc to provide /usr/bin/xjc (xjc) in auto mode\n",
            "Setting up libgail18:amd64 (2.24.33-2ubuntu2) ...\n",
            "Setting up libgtk2.0-bin (2.24.33-2ubuntu2) ...\n",
            "Setting up x11-utils (7.7+5build2) ...\n",
            "Setting up libatk-wrapper-java (0.38.0-5build1) ...\n",
            "Setting up libgail-common:amd64 (2.24.33-2ubuntu2) ...\n",
            "Setting up libatk-wrapper-java-jni:amd64 (0.38.0-5build1) ...\n",
            "Setting up openjdk-8-jre:amd64 (8u402-ga-2ubuntu1~22.04) ...\n",
            "update-alternatives: using /usr/lib/jvm/java-8-openjdk-amd64/jre/bin/policytool to provide /usr/bin/policytool (policytool) in auto mode\n",
            "Setting up openjdk-8-jdk:amd64 (8u402-ga-2ubuntu1~22.04) ...\n",
            "update-alternatives: using /usr/lib/jvm/java-8-openjdk-amd64/bin/appletviewer to provide /usr/bin/appletviewer (appletviewer) in auto mode\n",
            "update-alternatives: using /usr/lib/jvm/java-8-openjdk-amd64/bin/jconsole to provide /usr/bin/jconsole (jconsole) in auto mode\n",
            "Processing triggers for hicolor-icon-theme (0.17-2) ...\n",
            "Processing triggers for libc-bin (2.35-0ubuntu3.4) ...\n",
            "/sbin/ldconfig.real: /usr/local/lib/libtbbbind_2_0.so.3 is not a symbolic link\n",
            "\n",
            "/sbin/ldconfig.real: /usr/local/lib/libtbbbind_2_5.so.3 is not a symbolic link\n",
            "\n",
            "/sbin/ldconfig.real: /usr/local/lib/libtbbbind.so.3 is not a symbolic link\n",
            "\n",
            "/sbin/ldconfig.real: /usr/local/lib/libtbbmalloc.so.2 is not a symbolic link\n",
            "\n",
            "/sbin/ldconfig.real: /usr/local/lib/libtbb.so.12 is not a symbolic link\n",
            "\n",
            "/sbin/ldconfig.real: /usr/local/lib/libtbbmalloc_proxy.so.2 is not a symbolic link\n",
            "\n",
            "Processing triggers for man-db (2.10.2-1) ...\n",
            "Processing triggers for libgdk-pixbuf-2.0-0:amd64 (2.42.8+dfsg-1ubuntu0.2) ...\n",
            "Processing triggers for fontconfig (2.13.1-4.2ubuntu5) ...\n",
            "--2024-04-03 15:08:46--  https://dlcdn.apache.org/hadoop/common/hadoop-3.3.6/hadoop-3.3.6.tar.gz\n",
            "Resolving dlcdn.apache.org (dlcdn.apache.org)... 151.101.2.132, 2a04:4e42::644\n",
            "Connecting to dlcdn.apache.org (dlcdn.apache.org)|151.101.2.132|:443... connected.\n",
            "HTTP request sent, awaiting response... 200 OK\n",
            "Length: 730107476 (696M) [application/x-gzip]\n",
            "Saving to: ‘hadoop-3.3.6.tar.gz’\n",
            "\n",
            "hadoop-3.3.6.tar.gz 100%[===================>] 696.28M   162MB/s    in 4.1s    \n",
            "\n",
            "2024-04-03 15:08:50 (168 MB/s) - ‘hadoop-3.3.6.tar.gz’ saved [730107476/730107476]\n",
            "\n"
          ]
        }
      ],
      "source": [
        "!apt-get install openjdk-8-jdk\n",
        "!wget https://dlcdn.apache.org/hadoop/common/hadoop-3.3.6/hadoop-3.3.6.tar.gz\n",
        "!tar fx hadoop-3.3.6.tar.gz\n",
        "import os\n",
        "os.environ[\"JAVA_HOME\"] = \"/usr/lib/jvm/java-8-openjdk-amd64\"\n",
        "os.environ[\"HADOOP_HOME\"] = \"/content/hadoop-3.3.6\"\n",
        "!ln -s /content/hadoop-3.3.6/bin/* /usr/bin"
      ]
    },
    {
      "cell_type": "markdown",
      "source": [
        "# ***Create mapper.py***"
      ],
      "metadata": {
        "id": "VZw1ck6fCgBc"
      }
    },
    {
      "cell_type": "code",
      "source": [
        "%%writefile mapper.py\n",
        "#!/usr/bin/env python\n",
        "\n",
        "import sys\n",
        "\n",
        "# Skip the header row\n",
        "header_skipped = False\n",
        "\n",
        "# Input comes from STDIN (standard input)\n",
        "for line in sys.stdin:\n",
        "    # Remove leading and trailing whitespace\n",
        "    line = line.strip()\n",
        "\n",
        "    if not header_skipped:\n",
        "        # Skip the header row\n",
        "        header_skipped = True\n",
        "        continue\n",
        "\n",
        "    # Split the line into columns\n",
        "    columns = line.split(',')\n",
        "    if len(columns) == 3:\n",
        "        student_id, name, marks = columns\n",
        "        total_marks = sum(map(float, [marks]))\n",
        "        # Determine the grade\n",
        "        if total_marks >= 90:\n",
        "            grade = \"A+\"\n",
        "        elif total_marks >= 80:\n",
        "            grade = \"A\"\n",
        "        elif total_marks >= 70:\n",
        "            grade = \"B+\"\n",
        "        elif total_marks >= 60:\n",
        "            grade = \"B\"\n",
        "        elif total_marks >= 50:\n",
        "            grade = \"C\"\n",
        "        else:\n",
        "            grade = \"U\"\n",
        "        # Output the result\n",
        "        print(f\"{student_id},{name},{total_marks},{grade}\")\n"
      ],
      "metadata": {
        "colab": {
          "base_uri": "https://localhost:8080/"
        },
        "id": "NXvXT2u69FZs",
        "outputId": "8fec60c0-e9a6-4694-d058-9b6dfe8c8102"
      },
      "execution_count": 2,
      "outputs": [
        {
          "output_type": "stream",
          "name": "stdout",
          "text": [
            "Writing mapper.py\n"
          ]
        }
      ]
    },
    {
      "cell_type": "markdown",
      "source": [
        "# ***Create Reducer.py***"
      ],
      "metadata": {
        "id": "rTrWutt0CmBM"
      }
    },
    {
      "cell_type": "code",
      "source": [
        "%%writefile reducer.py\n",
        "#!/usr/bin/env python\n",
        "\n",
        "import sys\n",
        "\n",
        "# Define column names\n",
        "column_names = [\"S-ID\", \"Name\", \"Total Marks\", \"Grade\"]\n",
        "\n",
        "# Print column headers\n",
        "print('{:10} {:<11} {:<16} {:<15}'.format(*column_names))\n",
        "print()\n",
        "\n",
        "# Input comes from STDIN (standard input)\n",
        "for line in sys.stdin:\n",
        "    # Remove leading and trailing whitespace\n",
        "    line = line.strip()\n",
        "    # Split the line into columns\n",
        "    student_id, name, total_marks, grade = line.split(',')\n",
        "    # Output in table format\n",
        "    print(f\"{student_id:<10} {name:<15} {total_marks:<15} {grade}\")\n"
      ],
      "metadata": {
        "colab": {
          "base_uri": "https://localhost:8080/"
        },
        "id": "vHgpwstaA8J9",
        "outputId": "82951867-9952-4c86-d829-cd5aa1d6978d"
      },
      "execution_count": 39,
      "outputs": [
        {
          "output_type": "stream",
          "name": "stdout",
          "text": [
            "Overwriting reducer.py\n"
          ]
        }
      ]
    },
    {
      "cell_type": "markdown",
      "source": [
        "# ***Create Input Directory***"
      ],
      "metadata": {
        "id": "KY0k9xzzCp-8"
      }
    },
    {
      "cell_type": "code",
      "source": [
        "!hdfs dfs -mkdir input"
      ],
      "metadata": {
        "id": "mQtG3LtRBICN"
      },
      "execution_count": 4,
      "outputs": []
    },
    {
      "cell_type": "markdown",
      "source": [
        "# ***Write input file***"
      ],
      "metadata": {
        "id": "yxYjNtCmCtud"
      }
    },
    {
      "cell_type": "code",
      "source": [
        "%%writefile input/marksheet.txt\n",
        "\n",
        "01,John,85\n",
        "02,Emma,92\n",
        "03,Michael,78\n",
        "04,Sophia,60\n",
        "05,William,88\n",
        "06,Isabella,75\n",
        "07,James,90\n",
        "08,Olivia,82\n",
        "09,Alexander,70\n",
        "10,Ava,95\n",
        "11,Ethan,72\n",
        "12,Mia,86\n",
        "13,Daniel,81\n",
        "14,Charlotte,79\n",
        "15,Joseph,94\n",
        "16,Abigail,87\n",
        "17,David,76\n",
        "18,Emily,93\n",
        "19,Benjamin,83\n",
        "20,Harper,77\n",
        "21,Matthew,91\n",
        "22,Elizabeth,84\n",
        "23,Jackson,34\n",
        "24,Ella,89\n",
        "25,Samuel,80\n",
        "26,Avery,96\n",
        "27,Henry,73\n",
        "28,Scarlett,97\n",
        "29,Gabriel,68\n",
        "30,Victoria,98\n",
        "31,Andrew,40\n",
        "32,Grace,99\n",
        "33,Ryan,65\n",
        "34,Chloe,100\n",
        "35,Lucas,66\n",
        "36,Sofia,98\n",
        "37,Christopher,67\n",
        "38,Liam,97\n",
        "39,Evelyn,64\n",
        "40,Dylan,96"
      ],
      "metadata": {
        "colab": {
          "base_uri": "https://localhost:8080/"
        },
        "id": "1kuRzPvsBLvl",
        "outputId": "966faf98-d7d4-4fc2-bab6-2a1e7990f859"
      },
      "execution_count": 5,
      "outputs": [
        {
          "output_type": "stream",
          "name": "stdout",
          "text": [
            "Writing input/marksheet.txt\n"
          ]
        }
      ]
    },
    {
      "cell_type": "markdown",
      "source": [
        "# ***Run hadoop mapreduce***"
      ],
      "metadata": {
        "id": "BAs7r8swCyB1"
      }
    },
    {
      "cell_type": "code",
      "source": [
        "!hadoop jar /content/hadoop-3.3.6/share/hadoop/tools/lib/hadoop-streaming-3.3.6.jar \\\n",
        "    -files mapper.py,reducer.py \\\n",
        "    -mapper mapper.py \\\n",
        "    -reducer reducer.py \\\n",
        "    -input input/marksheet.txt \\\n",
        "    -output output"
      ],
      "metadata": {
        "colab": {
          "base_uri": "https://localhost:8080/"
        },
        "id": "Td6jgpHGBYZ2",
        "outputId": "9bcc01bb-9198-4ca3-e34c-32c6e42e69c6"
      },
      "execution_count": 41,
      "outputs": [
        {
          "output_type": "stream",
          "name": "stdout",
          "text": [
            "2024-04-03 15:18:43,668 INFO impl.MetricsConfig: Loaded properties from hadoop-metrics2.properties\n",
            "2024-04-03 15:18:43,776 INFO impl.MetricsSystemImpl: Scheduled Metric snapshot period at 10 second(s).\n",
            "2024-04-03 15:18:43,776 INFO impl.MetricsSystemImpl: JobTracker metrics system started\n",
            "2024-04-03 15:18:43,801 WARN impl.MetricsSystemImpl: JobTracker metrics system already initialized!\n",
            "2024-04-03 15:18:44,149 INFO mapred.FileInputFormat: Total input files to process : 1\n",
            "2024-04-03 15:18:44,171 INFO mapreduce.JobSubmitter: number of splits:1\n",
            "2024-04-03 15:18:44,384 INFO mapreduce.JobSubmitter: Submitting tokens for job: job_local382903436_0001\n",
            "2024-04-03 15:18:44,384 INFO mapreduce.JobSubmitter: Executing with tokens: []\n",
            "2024-04-03 15:18:44,965 INFO mapred.LocalDistributedCacheManager: Localized file:/content/mapper.py as file:/tmp/hadoop-root/mapred/local/job_local382903436_0001_0e9df431-fba9-4746-88a2-21905bdd2a2b/mapper.py\n",
            "2024-04-03 15:18:45,035 INFO mapred.LocalDistributedCacheManager: Localized file:/content/reducer.py as file:/tmp/hadoop-root/mapred/local/job_local382903436_0001_bfc9b8c5-b67f-4ded-b4f2-dc7c15c91536/reducer.py\n",
            "2024-04-03 15:18:45,354 INFO mapreduce.Job: The url to track the job: http://localhost:8080/\n",
            "2024-04-03 15:18:45,357 INFO mapreduce.Job: Running job: job_local382903436_0001\n",
            "2024-04-03 15:18:45,366 INFO mapred.LocalJobRunner: OutputCommitter set in config null\n",
            "2024-04-03 15:18:45,368 INFO mapred.LocalJobRunner: OutputCommitter is org.apache.hadoop.mapred.FileOutputCommitter\n",
            "2024-04-03 15:18:45,394 INFO output.FileOutputCommitter: File Output Committer Algorithm version is 2\n",
            "2024-04-03 15:18:45,394 INFO output.FileOutputCommitter: FileOutputCommitter skip cleanup _temporary folders under output directory:false, ignore cleanup failures: false\n",
            "2024-04-03 15:18:45,673 INFO mapred.LocalJobRunner: Waiting for map tasks\n",
            "2024-04-03 15:18:45,685 INFO mapred.LocalJobRunner: Starting task: attempt_local382903436_0001_m_000000_0\n",
            "2024-04-03 15:18:45,759 INFO output.FileOutputCommitter: File Output Committer Algorithm version is 2\n",
            "2024-04-03 15:18:45,759 INFO output.FileOutputCommitter: FileOutputCommitter skip cleanup _temporary folders under output directory:false, ignore cleanup failures: false\n",
            "2024-04-03 15:18:45,814 INFO mapred.Task:  Using ResourceCalculatorProcessTree : [ ]\n",
            "2024-04-03 15:18:45,833 INFO mapred.MapTask: Processing split: file:/content/input/marksheet.txt:0+523\n",
            "2024-04-03 15:18:45,862 INFO mapred.MapTask: numReduceTasks: 1\n",
            "2024-04-03 15:18:46,013 INFO mapred.MapTask: (EQUATOR) 0 kvi 26214396(104857584)\n",
            "2024-04-03 15:18:46,014 INFO mapred.MapTask: mapreduce.task.io.sort.mb: 100\n",
            "2024-04-03 15:18:46,014 INFO mapred.MapTask: soft limit at 83886080\n",
            "2024-04-03 15:18:46,014 INFO mapred.MapTask: bufstart = 0; bufvoid = 104857600\n",
            "2024-04-03 15:18:46,014 INFO mapred.MapTask: kvstart = 26214396; length = 6553600\n",
            "2024-04-03 15:18:46,027 INFO mapred.MapTask: Map output collector class = org.apache.hadoop.mapred.MapTask$MapOutputBuffer\n",
            "2024-04-03 15:18:46,038 INFO streaming.PipeMapRed: PipeMapRed exec [/content/./mapper.py]\n",
            "2024-04-03 15:18:46,047 INFO Configuration.deprecation: mapred.work.output.dir is deprecated. Instead, use mapreduce.task.output.dir\n",
            "2024-04-03 15:18:46,049 INFO Configuration.deprecation: mapred.local.dir is deprecated. Instead, use mapreduce.cluster.local.dir\n",
            "2024-04-03 15:18:46,049 INFO Configuration.deprecation: map.input.file is deprecated. Instead, use mapreduce.map.input.file\n",
            "2024-04-03 15:18:46,050 INFO Configuration.deprecation: map.input.length is deprecated. Instead, use mapreduce.map.input.length\n",
            "2024-04-03 15:18:46,051 INFO Configuration.deprecation: mapred.job.id is deprecated. Instead, use mapreduce.job.id\n",
            "2024-04-03 15:18:46,052 INFO Configuration.deprecation: mapred.task.partition is deprecated. Instead, use mapreduce.task.partition\n",
            "2024-04-03 15:18:46,057 INFO Configuration.deprecation: map.input.start is deprecated. Instead, use mapreduce.map.input.start\n",
            "2024-04-03 15:18:46,057 INFO Configuration.deprecation: mapred.task.is.map is deprecated. Instead, use mapreduce.task.ismap\n",
            "2024-04-03 15:18:46,057 INFO Configuration.deprecation: mapred.task.id is deprecated. Instead, use mapreduce.task.attempt.id\n",
            "2024-04-03 15:18:46,058 INFO Configuration.deprecation: mapred.tip.id is deprecated. Instead, use mapreduce.task.id\n",
            "2024-04-03 15:18:46,058 INFO Configuration.deprecation: mapred.skip.on is deprecated. Instead, use mapreduce.job.skiprecords\n",
            "2024-04-03 15:18:46,059 INFO Configuration.deprecation: user.name is deprecated. Instead, use mapreduce.job.user.name\n",
            "2024-04-03 15:18:46,099 INFO streaming.PipeMapRed: R/W/S=1/0/0 in:NA [rec/s] out:NA [rec/s]\n",
            "2024-04-03 15:18:46,099 INFO streaming.PipeMapRed: R/W/S=10/0/0 in:NA [rec/s] out:NA [rec/s]\n",
            "2024-04-03 15:18:46,195 INFO streaming.PipeMapRed: Records R/W=41/1\n",
            "2024-04-03 15:18:46,202 INFO streaming.PipeMapRed: MRErrorThread done\n",
            "2024-04-03 15:18:46,203 INFO streaming.PipeMapRed: mapRedFinished\n",
            "2024-04-03 15:18:46,212 INFO mapred.LocalJobRunner: \n",
            "2024-04-03 15:18:46,212 INFO mapred.MapTask: Starting flush of map output\n",
            "2024-04-03 15:18:46,212 INFO mapred.MapTask: Spilling map output\n",
            "2024-04-03 15:18:46,212 INFO mapred.MapTask: bufstart = 0; bufend = 744; bufvoid = 104857600\n",
            "2024-04-03 15:18:46,213 INFO mapred.MapTask: kvstart = 26214396(104857584); kvend = 26214240(104856960); length = 157/6553600\n",
            "2024-04-03 15:18:46,229 INFO mapred.MapTask: Finished spill 0\n",
            "2024-04-03 15:18:46,252 INFO mapred.Task: Task:attempt_local382903436_0001_m_000000_0 is done. And is in the process of committing\n",
            "2024-04-03 15:18:46,260 INFO mapred.LocalJobRunner: Records R/W=41/1\n",
            "2024-04-03 15:18:46,260 INFO mapred.Task: Task 'attempt_local382903436_0001_m_000000_0' done.\n",
            "2024-04-03 15:18:46,272 INFO mapred.Task: Final Counters for attempt_local382903436_0001_m_000000_0: Counters: 17\n",
            "\tFile System Counters\n",
            "\t\tFILE: Number of bytes read=143395\n",
            "\t\tFILE: Number of bytes written=784913\n",
            "\t\tFILE: Number of read operations=0\n",
            "\t\tFILE: Number of large read operations=0\n",
            "\t\tFILE: Number of write operations=0\n",
            "\tMap-Reduce Framework\n",
            "\t\tMap input records=41\n",
            "\t\tMap output records=40\n",
            "\t\tMap output bytes=744\n",
            "\t\tMap output materialized bytes=830\n",
            "\t\tInput split bytes=85\n",
            "\t\tCombine input records=0\n",
            "\t\tSpilled Records=40\n",
            "\t\tFailed Shuffles=0\n",
            "\t\tMerged Map outputs=0\n",
            "\t\tGC time elapsed (ms)=0\n",
            "\t\tTotal committed heap usage (bytes)=319815680\n",
            "\tFile Input Format Counters \n",
            "\t\tBytes Read=523\n",
            "2024-04-03 15:18:46,272 INFO mapred.LocalJobRunner: Finishing task: attempt_local382903436_0001_m_000000_0\n",
            "2024-04-03 15:18:46,272 INFO mapred.LocalJobRunner: map task executor complete.\n",
            "2024-04-03 15:18:46,276 INFO mapred.LocalJobRunner: Waiting for reduce tasks\n",
            "2024-04-03 15:18:46,276 INFO mapred.LocalJobRunner: Starting task: attempt_local382903436_0001_r_000000_0\n",
            "2024-04-03 15:18:46,287 INFO output.FileOutputCommitter: File Output Committer Algorithm version is 2\n",
            "2024-04-03 15:18:46,287 INFO output.FileOutputCommitter: FileOutputCommitter skip cleanup _temporary folders under output directory:false, ignore cleanup failures: false\n",
            "2024-04-03 15:18:46,287 INFO mapred.Task:  Using ResourceCalculatorProcessTree : [ ]\n",
            "2024-04-03 15:18:46,295 INFO mapred.ReduceTask: Using ShuffleConsumerPlugin: org.apache.hadoop.mapreduce.task.reduce.Shuffle@7744f899\n",
            "2024-04-03 15:18:46,297 WARN impl.MetricsSystemImpl: JobTracker metrics system already initialized!\n",
            "2024-04-03 15:18:46,339 INFO reduce.MergeManagerImpl: MergerManager: memoryLimit=2117966208, maxSingleShuffleLimit=529491552, mergeThreshold=1397857792, ioSortFactor=10, memToMemMergeOutputsThreshold=10\n",
            "2024-04-03 15:18:46,354 INFO reduce.EventFetcher: attempt_local382903436_0001_r_000000_0 Thread started: EventFetcher for fetching Map Completion Events\n",
            "2024-04-03 15:18:46,374 INFO mapreduce.Job: Job job_local382903436_0001 running in uber mode : false\n",
            "2024-04-03 15:18:46,375 INFO mapreduce.Job:  map 100% reduce 0%\n",
            "2024-04-03 15:18:46,452 INFO reduce.LocalFetcher: localfetcher#1 about to shuffle output of map attempt_local382903436_0001_m_000000_0 decomp: 826 len: 830 to MEMORY\n",
            "2024-04-03 15:18:46,464 INFO reduce.InMemoryMapOutput: Read 826 bytes from map-output for attempt_local382903436_0001_m_000000_0\n",
            "2024-04-03 15:18:46,466 INFO reduce.MergeManagerImpl: closeInMemoryFile -> map-output of size: 826, inMemoryMapOutputs.size() -> 1, commitMemory -> 0, usedMemory ->826\n",
            "2024-04-03 15:18:46,469 INFO reduce.EventFetcher: EventFetcher is interrupted.. Returning\n",
            "2024-04-03 15:18:46,470 INFO mapred.LocalJobRunner: 1 / 1 copied.\n",
            "2024-04-03 15:18:46,470 INFO reduce.MergeManagerImpl: finalMerge called with 1 in-memory map-outputs and 0 on-disk map-outputs\n",
            "2024-04-03 15:18:46,479 INFO mapred.Merger: Merging 1 sorted segments\n",
            "2024-04-03 15:18:46,479 INFO mapred.Merger: Down to the last merge-pass, with 1 segments left of total size: 809 bytes\n",
            "2024-04-03 15:18:46,484 INFO reduce.MergeManagerImpl: Merged 1 segments, 826 bytes to disk to satisfy reduce memory limit\n",
            "2024-04-03 15:18:46,485 INFO reduce.MergeManagerImpl: Merging 1 files, 830 bytes from disk\n",
            "2024-04-03 15:18:46,486 INFO reduce.MergeManagerImpl: Merging 0 segments, 0 bytes from memory into reduce\n",
            "2024-04-03 15:18:46,486 INFO mapred.Merger: Merging 1 sorted segments\n",
            "2024-04-03 15:18:46,494 INFO mapred.Merger: Down to the last merge-pass, with 1 segments left of total size: 809 bytes\n",
            "2024-04-03 15:18:46,495 INFO mapred.LocalJobRunner: 1 / 1 copied.\n",
            "2024-04-03 15:18:46,514 INFO streaming.PipeMapRed: PipeMapRed exec [/content/./reducer.py]\n",
            "2024-04-03 15:18:46,520 INFO Configuration.deprecation: mapred.job.tracker is deprecated. Instead, use mapreduce.jobtracker.address\n",
            "2024-04-03 15:18:46,522 INFO Configuration.deprecation: mapred.map.tasks is deprecated. Instead, use mapreduce.job.maps\n",
            "2024-04-03 15:18:46,564 INFO streaming.PipeMapRed: R/W/S=1/0/0 in:NA [rec/s] out:NA [rec/s]\n",
            "2024-04-03 15:18:46,564 INFO streaming.PipeMapRed: R/W/S=10/0/0 in:NA [rec/s] out:NA [rec/s]\n",
            "2024-04-03 15:18:46,664 INFO streaming.PipeMapRed: Records R/W=40/1\n",
            "2024-04-03 15:18:46,672 INFO streaming.PipeMapRed: MRErrorThread done\n",
            "2024-04-03 15:18:46,674 INFO streaming.PipeMapRed: mapRedFinished\n",
            "2024-04-03 15:18:46,680 INFO mapred.Task: Task:attempt_local382903436_0001_r_000000_0 is done. And is in the process of committing\n",
            "2024-04-03 15:18:46,682 INFO mapred.LocalJobRunner: 1 / 1 copied.\n",
            "2024-04-03 15:18:46,682 INFO mapred.Task: Task attempt_local382903436_0001_r_000000_0 is allowed to commit now\n",
            "2024-04-03 15:18:46,684 INFO output.FileOutputCommitter: Saved output of task 'attempt_local382903436_0001_r_000000_0' to file:/content/output\n",
            "2024-04-03 15:18:46,689 INFO mapred.LocalJobRunner: Records R/W=40/1 > reduce\n",
            "2024-04-03 15:18:46,689 INFO mapred.Task: Task 'attempt_local382903436_0001_r_000000_0' done.\n",
            "2024-04-03 15:18:46,691 INFO mapred.Task: Final Counters for attempt_local382903436_0001_r_000000_0: Counters: 24\n",
            "\tFile System Counters\n",
            "\t\tFILE: Number of bytes read=145087\n",
            "\t\tFILE: Number of bytes written=787688\n",
            "\t\tFILE: Number of read operations=0\n",
            "\t\tFILE: Number of large read operations=0\n",
            "\t\tFILE: Number of write operations=0\n",
            "\tMap-Reduce Framework\n",
            "\t\tCombine input records=0\n",
            "\t\tCombine output records=0\n",
            "\t\tReduce input groups=40\n",
            "\t\tReduce shuffle bytes=830\n",
            "\t\tReduce input records=40\n",
            "\t\tReduce output records=42\n",
            "\t\tSpilled Records=40\n",
            "\t\tShuffled Maps =1\n",
            "\t\tFailed Shuffles=0\n",
            "\t\tMerged Map outputs=1\n",
            "\t\tGC time elapsed (ms)=0\n",
            "\t\tTotal committed heap usage (bytes)=319815680\n",
            "\tShuffle Errors\n",
            "\t\tBAD_ID=0\n",
            "\t\tCONNECTION=0\n",
            "\t\tIO_ERROR=0\n",
            "\t\tWRONG_LENGTH=0\n",
            "\t\tWRONG_MAP=0\n",
            "\t\tWRONG_REDUCE=0\n",
            "\tFile Output Format Counters \n",
            "\t\tBytes Written=1945\n",
            "2024-04-03 15:18:46,693 INFO mapred.LocalJobRunner: Finishing task: attempt_local382903436_0001_r_000000_0\n",
            "2024-04-03 15:18:46,693 INFO mapred.LocalJobRunner: reduce task executor complete.\n",
            "2024-04-03 15:18:47,377 INFO mapreduce.Job:  map 100% reduce 100%\n",
            "2024-04-03 15:18:47,378 INFO mapreduce.Job: Job job_local382903436_0001 completed successfully\n",
            "2024-04-03 15:18:47,393 INFO mapreduce.Job: Counters: 30\n",
            "\tFile System Counters\n",
            "\t\tFILE: Number of bytes read=288482\n",
            "\t\tFILE: Number of bytes written=1572601\n",
            "\t\tFILE: Number of read operations=0\n",
            "\t\tFILE: Number of large read operations=0\n",
            "\t\tFILE: Number of write operations=0\n",
            "\tMap-Reduce Framework\n",
            "\t\tMap input records=41\n",
            "\t\tMap output records=40\n",
            "\t\tMap output bytes=744\n",
            "\t\tMap output materialized bytes=830\n",
            "\t\tInput split bytes=85\n",
            "\t\tCombine input records=0\n",
            "\t\tCombine output records=0\n",
            "\t\tReduce input groups=40\n",
            "\t\tReduce shuffle bytes=830\n",
            "\t\tReduce input records=40\n",
            "\t\tReduce output records=42\n",
            "\t\tSpilled Records=80\n",
            "\t\tShuffled Maps =1\n",
            "\t\tFailed Shuffles=0\n",
            "\t\tMerged Map outputs=1\n",
            "\t\tGC time elapsed (ms)=0\n",
            "\t\tTotal committed heap usage (bytes)=639631360\n",
            "\tShuffle Errors\n",
            "\t\tBAD_ID=0\n",
            "\t\tCONNECTION=0\n",
            "\t\tIO_ERROR=0\n",
            "\t\tWRONG_LENGTH=0\n",
            "\t\tWRONG_MAP=0\n",
            "\t\tWRONG_REDUCE=0\n",
            "\tFile Input Format Counters \n",
            "\t\tBytes Read=523\n",
            "\tFile Output Format Counters \n",
            "\t\tBytes Written=1945\n",
            "2024-04-03 15:18:47,393 INFO streaming.StreamJob: Output directory: output\n"
          ]
        }
      ]
    },
    {
      "cell_type": "markdown",
      "source": [
        "# ***Display Output***"
      ],
      "metadata": {
        "id": "DWOni8kIC4pf"
      }
    },
    {
      "cell_type": "code",
      "source": [
        "!cat output/part-00000"
      ],
      "metadata": {
        "colab": {
          "base_uri": "https://localhost:8080/"
        },
        "id": "go_FpoLFBfV-",
        "outputId": "b16aa890-4322-4082-92b2-25baeef56bdb"
      },
      "execution_count": 42,
      "outputs": [
        {
          "output_type": "stream",
          "name": "stdout",
          "text": [
            "S-ID       Name        Total Marks      Grade          \t\n",
            "\t\n",
            "01         John            85.0            A\t\n",
            "02         Emma            92.0            A+\t\n",
            "03         Michael         78.0            B+\t\n",
            "04         Sophia          60.0            B\t\n",
            "05         William         88.0            A\t\n",
            "06         Isabella        75.0            B+\t\n",
            "07         James           90.0            A+\t\n",
            "08         Olivia          82.0            A\t\n",
            "09         Alexander       70.0            B+\t\n",
            "10         Ava             95.0            A+\t\n",
            "11         Ethan           72.0            B+\t\n",
            "12         Mia             86.0            A\t\n",
            "13         Daniel          81.0            A\t\n",
            "14         Charlotte       79.0            B+\t\n",
            "15         Joseph          94.0            A+\t\n",
            "16         Abigail         87.0            A\t\n",
            "17         David           76.0            B+\t\n",
            "18         Emily           93.0            A+\t\n",
            "19         Benjamin        83.0            A\t\n",
            "20         Harper          77.0            B+\t\n",
            "21         Matthew         91.0            A+\t\n",
            "22         Elizabeth       84.0            A\t\n",
            "23         Jackson         34.0            U\t\n",
            "24         Ella            89.0            A\t\n",
            "25         Samuel          80.0            A\t\n",
            "26         Avery           96.0            A+\t\n",
            "27         Henry           73.0            B+\t\n",
            "28         Scarlett        97.0            A+\t\n",
            "29         Gabriel         68.0            B\t\n",
            "30         Victoria        98.0            A+\t\n",
            "31         Andrew          40.0            U\t\n",
            "32         Grace           99.0            A+\t\n",
            "33         Ryan            65.0            B\t\n",
            "34         Chloe           100.0           A+\t\n",
            "35         Lucas           66.0            B\t\n",
            "36         Sofia           98.0            A+\t\n",
            "37         Christopher     67.0            B\t\n",
            "38         Liam            97.0            A+\t\n",
            "39         Evelyn          64.0            B\t\n",
            "40         Dylan           96.0            A+\t\n"
          ]
        }
      ]
    }
  ]
}