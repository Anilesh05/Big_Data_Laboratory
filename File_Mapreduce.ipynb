{
  "cells": [
    {
      "cell_type": "markdown",
      "metadata": {
        "id": "view-in-github",
        "colab_type": "text"
      },
      "source": [
        "<a href=\"https://colab.research.google.com/github/Anilesh05/Big_Data_Laboratory/blob/main/File_Mapreduce.ipynb\" target=\"_parent\"><img src=\"https://colab.research.google.com/assets/colab-badge.svg\" alt=\"Open In Colab\"/></a>"
      ]
    },
    {
      "cell_type": "markdown",
      "source": [
        "# ***Installing jdk and hadoop***"
      ],
      "metadata": {
        "id": "rHnUgTbEiZ5R"
      }
    },
    {
      "cell_type": "code",
      "execution_count": 1,
      "metadata": {
        "colab": {
          "base_uri": "https://localhost:8080/"
        },
        "id": "ZYWWPxXUzoBY",
        "outputId": "42dc53af-a166-4140-f8f0-1161d0d48627"
      },
      "outputs": [
        {
          "output_type": "stream",
          "name": "stdout",
          "text": [
            "Reading package lists... Done\n",
            "Building dependency tree... Done\n",
            "Reading state information... Done\n",
            "The following additional packages will be installed:\n",
            "  fonts-dejavu-core fonts-dejavu-extra libatk-wrapper-java libatk-wrapper-java-jni libfontenc1\n",
            "  libgail-common libgail18 libgtk2.0-0 libgtk2.0-bin libgtk2.0-common libice-dev librsvg2-common\n",
            "  libsm-dev libxkbfile1 libxt-dev libxtst6 libxxf86dga1 openjdk-8-jdk-headless openjdk-8-jre\n",
            "  openjdk-8-jre-headless x11-utils\n",
            "Suggested packages:\n",
            "  gvfs libice-doc libsm-doc libxt-doc openjdk-8-demo openjdk-8-source visualvm libnss-mdns\n",
            "  fonts-nanum fonts-ipafont-gothic fonts-ipafont-mincho fonts-wqy-microhei fonts-wqy-zenhei\n",
            "  fonts-indic mesa-utils\n",
            "The following NEW packages will be installed:\n",
            "  fonts-dejavu-core fonts-dejavu-extra libatk-wrapper-java libatk-wrapper-java-jni libfontenc1\n",
            "  libgail-common libgail18 libgtk2.0-0 libgtk2.0-bin libgtk2.0-common libice-dev librsvg2-common\n",
            "  libsm-dev libxkbfile1 libxt-dev libxtst6 libxxf86dga1 openjdk-8-jdk openjdk-8-jdk-headless\n",
            "  openjdk-8-jre openjdk-8-jre-headless x11-utils\n",
            "0 upgraded, 22 newly installed, 0 to remove and 38 not upgraded.\n",
            "Need to get 50.0 MB of archives.\n",
            "After this operation, 169 MB of additional disk space will be used.\n",
            "Get:1 http://archive.ubuntu.com/ubuntu jammy/main amd64 fonts-dejavu-core all 2.37-2build1 [1,041 kB]\n",
            "Get:2 http://archive.ubuntu.com/ubuntu jammy/main amd64 fonts-dejavu-extra all 2.37-2build1 [2,041 kB]\n",
            "Get:3 http://archive.ubuntu.com/ubuntu jammy/main amd64 libfontenc1 amd64 1:1.1.4-1build3 [14.7 kB]\n",
            "Get:4 http://archive.ubuntu.com/ubuntu jammy/main amd64 libxkbfile1 amd64 1:1.1.0-1build3 [71.8 kB]\n",
            "Get:5 http://archive.ubuntu.com/ubuntu jammy/main amd64 libxtst6 amd64 2:1.2.3-1build4 [13.4 kB]\n",
            "Get:6 http://archive.ubuntu.com/ubuntu jammy/main amd64 libxxf86dga1 amd64 2:1.1.5-0ubuntu3 [12.6 kB]\n",
            "Get:7 http://archive.ubuntu.com/ubuntu jammy/main amd64 x11-utils amd64 7.7+5build2 [206 kB]\n",
            "Get:8 http://archive.ubuntu.com/ubuntu jammy/main amd64 libatk-wrapper-java all 0.38.0-5build1 [53.1 kB]\n",
            "Get:9 http://archive.ubuntu.com/ubuntu jammy/main amd64 libatk-wrapper-java-jni amd64 0.38.0-5build1 [49.0 kB]\n",
            "Get:10 http://archive.ubuntu.com/ubuntu jammy/main amd64 libgtk2.0-common all 2.24.33-2ubuntu2 [125 kB]\n",
            "Get:11 http://archive.ubuntu.com/ubuntu jammy/main amd64 libgtk2.0-0 amd64 2.24.33-2ubuntu2 [2,037 kB]\n",
            "Get:12 http://archive.ubuntu.com/ubuntu jammy/main amd64 libgail18 amd64 2.24.33-2ubuntu2 [15.9 kB]\n",
            "Get:13 http://archive.ubuntu.com/ubuntu jammy/main amd64 libgail-common amd64 2.24.33-2ubuntu2 [132 kB]\n",
            "Get:14 http://archive.ubuntu.com/ubuntu jammy/main amd64 libgtk2.0-bin amd64 2.24.33-2ubuntu2 [7,932 B]\n",
            "Get:15 http://archive.ubuntu.com/ubuntu jammy/main amd64 libice-dev amd64 2:1.0.10-1build2 [51.4 kB]\n",
            "Get:16 http://archive.ubuntu.com/ubuntu jammy-updates/main amd64 librsvg2-common amd64 2.52.5+dfsg-3ubuntu0.2 [17.7 kB]\n",
            "Get:17 http://archive.ubuntu.com/ubuntu jammy/main amd64 libsm-dev amd64 2:1.2.3-1build2 [18.1 kB]\n",
            "Get:18 http://archive.ubuntu.com/ubuntu jammy/main amd64 libxt-dev amd64 1:1.2.1-1 [396 kB]\n",
            "Get:19 http://archive.ubuntu.com/ubuntu jammy-updates/universe amd64 openjdk-8-jre-headless amd64 8u392-ga-1~22.04 [30.8 MB]\n",
            "Get:20 http://archive.ubuntu.com/ubuntu jammy-updates/universe amd64 openjdk-8-jre amd64 8u392-ga-1~22.04 [75.5 kB]\n",
            "Get:21 http://archive.ubuntu.com/ubuntu jammy-updates/universe amd64 openjdk-8-jdk-headless amd64 8u392-ga-1~22.04 [8,863 kB]\n",
            "Get:22 http://archive.ubuntu.com/ubuntu jammy-updates/universe amd64 openjdk-8-jdk amd64 8u392-ga-1~22.04 [4,006 kB]\n",
            "Fetched 50.0 MB in 2s (22.9 MB/s)\n",
            "Selecting previously unselected package fonts-dejavu-core.\n",
            "(Reading database ... 121752 files and directories currently installed.)\n",
            "Preparing to unpack .../00-fonts-dejavu-core_2.37-2build1_all.deb ...\n",
            "Unpacking fonts-dejavu-core (2.37-2build1) ...\n",
            "Selecting previously unselected package fonts-dejavu-extra.\n",
            "Preparing to unpack .../01-fonts-dejavu-extra_2.37-2build1_all.deb ...\n",
            "Unpacking fonts-dejavu-extra (2.37-2build1) ...\n",
            "Selecting previously unselected package libfontenc1:amd64.\n",
            "Preparing to unpack .../02-libfontenc1_1%3a1.1.4-1build3_amd64.deb ...\n",
            "Unpacking libfontenc1:amd64 (1:1.1.4-1build3) ...\n",
            "Selecting previously unselected package libxkbfile1:amd64.\n",
            "Preparing to unpack .../03-libxkbfile1_1%3a1.1.0-1build3_amd64.deb ...\n",
            "Unpacking libxkbfile1:amd64 (1:1.1.0-1build3) ...\n",
            "Selecting previously unselected package libxtst6:amd64.\n",
            "Preparing to unpack .../04-libxtst6_2%3a1.2.3-1build4_amd64.deb ...\n",
            "Unpacking libxtst6:amd64 (2:1.2.3-1build4) ...\n",
            "Selecting previously unselected package libxxf86dga1:amd64.\n",
            "Preparing to unpack .../05-libxxf86dga1_2%3a1.1.5-0ubuntu3_amd64.deb ...\n",
            "Unpacking libxxf86dga1:amd64 (2:1.1.5-0ubuntu3) ...\n",
            "Selecting previously unselected package x11-utils.\n",
            "Preparing to unpack .../06-x11-utils_7.7+5build2_amd64.deb ...\n",
            "Unpacking x11-utils (7.7+5build2) ...\n",
            "Selecting previously unselected package libatk-wrapper-java.\n",
            "Preparing to unpack .../07-libatk-wrapper-java_0.38.0-5build1_all.deb ...\n",
            "Unpacking libatk-wrapper-java (0.38.0-5build1) ...\n",
            "Selecting previously unselected package libatk-wrapper-java-jni:amd64.\n",
            "Preparing to unpack .../08-libatk-wrapper-java-jni_0.38.0-5build1_amd64.deb ...\n",
            "Unpacking libatk-wrapper-java-jni:amd64 (0.38.0-5build1) ...\n",
            "Selecting previously unselected package libgtk2.0-common.\n",
            "Preparing to unpack .../09-libgtk2.0-common_2.24.33-2ubuntu2_all.deb ...\n",
            "Unpacking libgtk2.0-common (2.24.33-2ubuntu2) ...\n",
            "Selecting previously unselected package libgtk2.0-0:amd64.\n",
            "Preparing to unpack .../10-libgtk2.0-0_2.24.33-2ubuntu2_amd64.deb ...\n",
            "Unpacking libgtk2.0-0:amd64 (2.24.33-2ubuntu2) ...\n",
            "Selecting previously unselected package libgail18:amd64.\n",
            "Preparing to unpack .../11-libgail18_2.24.33-2ubuntu2_amd64.deb ...\n",
            "Unpacking libgail18:amd64 (2.24.33-2ubuntu2) ...\n",
            "Selecting previously unselected package libgail-common:amd64.\n",
            "Preparing to unpack .../12-libgail-common_2.24.33-2ubuntu2_amd64.deb ...\n",
            "Unpacking libgail-common:amd64 (2.24.33-2ubuntu2) ...\n",
            "Selecting previously unselected package libgtk2.0-bin.\n",
            "Preparing to unpack .../13-libgtk2.0-bin_2.24.33-2ubuntu2_amd64.deb ...\n",
            "Unpacking libgtk2.0-bin (2.24.33-2ubuntu2) ...\n",
            "Selecting previously unselected package libice-dev:amd64.\n",
            "Preparing to unpack .../14-libice-dev_2%3a1.0.10-1build2_amd64.deb ...\n",
            "Unpacking libice-dev:amd64 (2:1.0.10-1build2) ...\n",
            "Selecting previously unselected package librsvg2-common:amd64.\n",
            "Preparing to unpack .../15-librsvg2-common_2.52.5+dfsg-3ubuntu0.2_amd64.deb ...\n",
            "Unpacking librsvg2-common:amd64 (2.52.5+dfsg-3ubuntu0.2) ...\n",
            "Selecting previously unselected package libsm-dev:amd64.\n",
            "Preparing to unpack .../16-libsm-dev_2%3a1.2.3-1build2_amd64.deb ...\n",
            "Unpacking libsm-dev:amd64 (2:1.2.3-1build2) ...\n",
            "Selecting previously unselected package libxt-dev:amd64.\n",
            "Preparing to unpack .../17-libxt-dev_1%3a1.2.1-1_amd64.deb ...\n",
            "Unpacking libxt-dev:amd64 (1:1.2.1-1) ...\n",
            "Selecting previously unselected package openjdk-8-jre-headless:amd64.\n",
            "Preparing to unpack .../18-openjdk-8-jre-headless_8u392-ga-1~22.04_amd64.deb ...\n",
            "Unpacking openjdk-8-jre-headless:amd64 (8u392-ga-1~22.04) ...\n",
            "Selecting previously unselected package openjdk-8-jre:amd64.\n",
            "Preparing to unpack .../19-openjdk-8-jre_8u392-ga-1~22.04_amd64.deb ...\n",
            "Unpacking openjdk-8-jre:amd64 (8u392-ga-1~22.04) ...\n",
            "Selecting previously unselected package openjdk-8-jdk-headless:amd64.\n",
            "Preparing to unpack .../20-openjdk-8-jdk-headless_8u392-ga-1~22.04_amd64.deb ...\n",
            "Unpacking openjdk-8-jdk-headless:amd64 (8u392-ga-1~22.04) ...\n",
            "Selecting previously unselected package openjdk-8-jdk:amd64.\n",
            "Preparing to unpack .../21-openjdk-8-jdk_8u392-ga-1~22.04_amd64.deb ...\n",
            "Unpacking openjdk-8-jdk:amd64 (8u392-ga-1~22.04) ...\n",
            "Setting up libice-dev:amd64 (2:1.0.10-1build2) ...\n",
            "Setting up libsm-dev:amd64 (2:1.2.3-1build2) ...\n",
            "Setting up libxtst6:amd64 (2:1.2.3-1build4) ...\n",
            "Setting up libxxf86dga1:amd64 (2:1.1.5-0ubuntu3) ...\n",
            "Setting up libfontenc1:amd64 (1:1.1.4-1build3) ...\n",
            "Setting up libxt-dev:amd64 (1:1.2.1-1) ...\n",
            "Setting up openjdk-8-jre-headless:amd64 (8u392-ga-1~22.04) ...\n",
            "update-alternatives: using /usr/lib/jvm/java-8-openjdk-amd64/jre/bin/orbd to provide /usr/bin/orbd (orbd) in auto mode\n",
            "update-alternatives: using /usr/lib/jvm/java-8-openjdk-amd64/jre/bin/servertool to provide /usr/bin/servertool (servertool) in auto mode\n",
            "update-alternatives: using /usr/lib/jvm/java-8-openjdk-amd64/jre/bin/tnameserv to provide /usr/bin/tnameserv (tnameserv) in auto mode\n",
            "Setting up fonts-dejavu-core (2.37-2build1) ...\n",
            "Setting up librsvg2-common:amd64 (2.52.5+dfsg-3ubuntu0.2) ...\n",
            "Setting up fonts-dejavu-extra (2.37-2build1) ...\n",
            "Setting up libgtk2.0-common (2.24.33-2ubuntu2) ...\n",
            "Setting up libxkbfile1:amd64 (1:1.1.0-1build3) ...\n",
            "Setting up libgtk2.0-0:amd64 (2.24.33-2ubuntu2) ...\n",
            "Setting up openjdk-8-jdk-headless:amd64 (8u392-ga-1~22.04) ...\n",
            "update-alternatives: using /usr/lib/jvm/java-8-openjdk-amd64/bin/clhsdb to provide /usr/bin/clhsdb (clhsdb) in auto mode\n",
            "update-alternatives: using /usr/lib/jvm/java-8-openjdk-amd64/bin/extcheck to provide /usr/bin/extcheck (extcheck) in auto mode\n",
            "update-alternatives: using /usr/lib/jvm/java-8-openjdk-amd64/bin/hsdb to provide /usr/bin/hsdb (hsdb) in auto mode\n",
            "update-alternatives: using /usr/lib/jvm/java-8-openjdk-amd64/bin/idlj to provide /usr/bin/idlj (idlj) in auto mode\n",
            "update-alternatives: using /usr/lib/jvm/java-8-openjdk-amd64/bin/javah to provide /usr/bin/javah (javah) in auto mode\n",
            "update-alternatives: using /usr/lib/jvm/java-8-openjdk-amd64/bin/jhat to provide /usr/bin/jhat (jhat) in auto mode\n",
            "update-alternatives: using /usr/lib/jvm/java-8-openjdk-amd64/bin/jsadebugd to provide /usr/bin/jsadebugd (jsadebugd) in auto mode\n",
            "update-alternatives: using /usr/lib/jvm/java-8-openjdk-amd64/bin/native2ascii to provide /usr/bin/native2ascii (native2ascii) in auto mode\n",
            "update-alternatives: using /usr/lib/jvm/java-8-openjdk-amd64/bin/schemagen to provide /usr/bin/schemagen (schemagen) in auto mode\n",
            "update-alternatives: using /usr/lib/jvm/java-8-openjdk-amd64/bin/wsgen to provide /usr/bin/wsgen (wsgen) in auto mode\n",
            "update-alternatives: using /usr/lib/jvm/java-8-openjdk-amd64/bin/wsimport to provide /usr/bin/wsimport (wsimport) in auto mode\n",
            "update-alternatives: using /usr/lib/jvm/java-8-openjdk-amd64/bin/xjc to provide /usr/bin/xjc (xjc) in auto mode\n",
            "Setting up libgail18:amd64 (2.24.33-2ubuntu2) ...\n",
            "Setting up libgtk2.0-bin (2.24.33-2ubuntu2) ...\n",
            "Setting up x11-utils (7.7+5build2) ...\n",
            "Setting up libatk-wrapper-java (0.38.0-5build1) ...\n",
            "Setting up libgail-common:amd64 (2.24.33-2ubuntu2) ...\n",
            "Setting up libatk-wrapper-java-jni:amd64 (0.38.0-5build1) ...\n",
            "Setting up openjdk-8-jre:amd64 (8u392-ga-1~22.04) ...\n",
            "update-alternatives: using /usr/lib/jvm/java-8-openjdk-amd64/jre/bin/policytool to provide /usr/bin/policytool (policytool) in auto mode\n",
            "Setting up openjdk-8-jdk:amd64 (8u392-ga-1~22.04) ...\n",
            "update-alternatives: using /usr/lib/jvm/java-8-openjdk-amd64/bin/appletviewer to provide /usr/bin/appletviewer (appletviewer) in auto mode\n",
            "update-alternatives: using /usr/lib/jvm/java-8-openjdk-amd64/bin/jconsole to provide /usr/bin/jconsole (jconsole) in auto mode\n",
            "Processing triggers for hicolor-icon-theme (0.17-2) ...\n",
            "Processing triggers for libc-bin (2.35-0ubuntu3.4) ...\n",
            "/sbin/ldconfig.real: /usr/local/lib/libtbbmalloc.so.2 is not a symbolic link\n",
            "\n",
            "/sbin/ldconfig.real: /usr/local/lib/libtbb.so.12 is not a symbolic link\n",
            "\n",
            "/sbin/ldconfig.real: /usr/local/lib/libtbbbind_2_0.so.3 is not a symbolic link\n",
            "\n",
            "/sbin/ldconfig.real: /usr/local/lib/libtbbbind.so.3 is not a symbolic link\n",
            "\n",
            "/sbin/ldconfig.real: /usr/local/lib/libtbbbind_2_5.so.3 is not a symbolic link\n",
            "\n",
            "/sbin/ldconfig.real: /usr/local/lib/libtbbmalloc_proxy.so.2 is not a symbolic link\n",
            "\n",
            "Processing triggers for man-db (2.10.2-1) ...\n",
            "Processing triggers for libgdk-pixbuf-2.0-0:amd64 (2.42.8+dfsg-1ubuntu0.2) ...\n",
            "Processing triggers for fontconfig (2.13.1-4.2ubuntu5) ...\n",
            "--2024-03-16 13:05:38--  https://dlcdn.apache.org/hadoop/common/hadoop-3.3.6/hadoop-3.3.6.tar.gz\n",
            "Resolving dlcdn.apache.org (dlcdn.apache.org)... 151.101.2.132, 2a04:4e42::644\n",
            "Connecting to dlcdn.apache.org (dlcdn.apache.org)|151.101.2.132|:443... connected.\n",
            "HTTP request sent, awaiting response... 200 OK\n",
            "Length: 730107476 (696M) [application/x-gzip]\n",
            "Saving to: ‘hadoop-3.3.6.tar.gz’\n",
            "\n",
            "hadoop-3.3.6.tar.gz 100%[===================>] 696.28M  90.8MB/s    in 4.9s    \n",
            "\n",
            "2024-03-16 13:05:43 (141 MB/s) - ‘hadoop-3.3.6.tar.gz’ saved [730107476/730107476]\n",
            "\n"
          ]
        }
      ],
      "source": [
        "!apt-get install openjdk-8-jdk\n",
        "!wget https://dlcdn.apache.org/hadoop/common/hadoop-3.3.6/hadoop-3.3.6.tar.gz\n",
        "!tar fx hadoop-3.3.6.tar.gz\n",
        "import os\n",
        "os.environ[\"JAVA_HOME\"] = \"/usr/lib/jvm/java-8-openjdk-amd64\"\n",
        "os.environ[\"HADOOP_HOME\"] = \"/content/hadoop-3.3.6\"\n",
        "!ln -s /content/hadoop-3.3.6/bin/* /usr/bin"
      ]
    },
    {
      "cell_type": "markdown",
      "source": [
        "# ***Create a new folder***"
      ],
      "metadata": {
        "id": "tBzg5h39iiCq"
      }
    },
    {
      "cell_type": "code",
      "execution_count": 63,
      "metadata": {
        "id": "p_Ks9TK8z3Qz"
      },
      "outputs": [],
      "source": [
        "!hdfs dfs -mkdir input"
      ]
    },
    {
      "cell_type": "markdown",
      "source": [
        "# ***Create a new file and add content***"
      ],
      "metadata": {
        "id": "lUo6B4ZLi13h"
      }
    },
    {
      "cell_type": "code",
      "source": [
        "%%writefile text.txt\n",
        "\n",
        "Verizon has won a takeover battle for US phone firm MCI with a bid worth $6.8bn (Â£3.6bn), reports say.\n",
        "The two firms are expected to seal the deal on Monday morning,\n",
        "according to news agency reports, despite what was thought to be a higher bid from Qwest.\n",
        "The US telecoms market is consolidating fast,\n",
        "with former long-distance giant AT&T being bought by former subsidiary SBC earlier this year for $16bn.\n",
        "MCI exited bankruptcy in April, having gone bust under previous name WorldCom.\n",
        "The bankruptcy followed its admission in 2002 that it illegally booked expenses and inflated profits."
      ],
      "metadata": {
        "id": "ucT7Lotue6ik",
        "outputId": "9543d081-faba-4c08-8be8-f678147c2b5c",
        "colab": {
          "base_uri": "https://localhost:8080/"
        }
      },
      "execution_count": 64,
      "outputs": [
        {
          "output_type": "stream",
          "name": "stdout",
          "text": [
            "Writing text.txt\n"
          ]
        }
      ]
    },
    {
      "cell_type": "code",
      "source": [
        "!hdfs dfs -put /content/text.txt /content/input/"
      ],
      "metadata": {
        "id": "xyJVsUeTh3wX"
      },
      "execution_count": 65,
      "outputs": []
    },
    {
      "cell_type": "code",
      "execution_count": 66,
      "metadata": {
        "colab": {
          "base_uri": "https://localhost:8080/"
        },
        "id": "Fd9VsH5D0Bo6",
        "outputId": "0806ccdd-a892-4f66-c4eb-206cbf45e0c8"
      },
      "outputs": [
        {
          "output_type": "stream",
          "name": "stdout",
          "text": [
            "Found 1 items\n",
            "-rw-r--r--   1 root root        594 2024-03-16 13:51 input/text.txt\n"
          ]
        }
      ],
      "source": [
        "!hdfs dfs -ls input"
      ]
    },
    {
      "cell_type": "markdown",
      "source": [
        "# ***Display File***"
      ],
      "metadata": {
        "id": "TXqGjIpSjVjk"
      }
    },
    {
      "cell_type": "code",
      "source": [
        "!hdfs dfs -cat input/text.txt"
      ],
      "metadata": {
        "id": "xHI5pQDygQAJ",
        "outputId": "810229b9-e837-4653-c79f-cb545e6d7479",
        "colab": {
          "base_uri": "https://localhost:8080/"
        }
      },
      "execution_count": 67,
      "outputs": [
        {
          "output_type": "stream",
          "name": "stdout",
          "text": [
            "\n",
            "Verizon has won a takeover battle for US phone firm MCI with a bid worth $6.8bn (Â£3.6bn), reports say.\n",
            "The two firms are expected to seal the deal on Monday morning,\n",
            "according to news agency reports, despite what was thought to be a higher bid from Qwest. \n",
            "The US telecoms market is consolidating fast,\n",
            "with former long-distance giant AT&T being bought by former subsidiary SBC earlier this year for $16bn. \n",
            "MCI exited bankruptcy in April, having gone bust under previous name WorldCom. \n",
            "The bankruptcy followed its admission in 2002 that it illegally booked expenses and inflated profits.\n"
          ]
        }
      ]
    },
    {
      "cell_type": "markdown",
      "source": [
        "# ***Mapreduce the file content***"
      ],
      "metadata": {
        "id": "MXfeaFCAjctt"
      }
    },
    {
      "cell_type": "code",
      "execution_count": 68,
      "metadata": {
        "colab": {
          "base_uri": "https://localhost:8080/"
        },
        "id": "mMCJDYiw09QE",
        "outputId": "16f51b76-71e7-4257-889c-f7e169cf28f6"
      },
      "outputs": [
        {
          "output_type": "stream",
          "name": "stdout",
          "text": [
            "2024-03-16 13:51:54,619 INFO impl.MetricsConfig: Loaded properties from hadoop-metrics2.properties\n",
            "2024-03-16 13:51:54,727 INFO impl.MetricsSystemImpl: Scheduled Metric snapshot period at 10 second(s).\n",
            "2024-03-16 13:51:54,728 INFO impl.MetricsSystemImpl: JobTracker metrics system started\n",
            "2024-03-16 13:51:55,043 INFO input.FileInputFormat: Total input files to process : 1\n",
            "2024-03-16 13:51:55,086 INFO mapreduce.JobSubmitter: number of splits:1\n",
            "2024-03-16 13:51:55,295 INFO mapreduce.JobSubmitter: Submitting tokens for job: job_local895189484_0001\n",
            "2024-03-16 13:51:55,295 INFO mapreduce.JobSubmitter: Executing with tokens: []\n",
            "2024-03-16 13:51:55,576 INFO mapreduce.Job: The url to track the job: http://localhost:8080/\n",
            "2024-03-16 13:51:55,577 INFO mapreduce.Job: Running job: job_local895189484_0001\n",
            "2024-03-16 13:51:55,585 INFO mapred.LocalJobRunner: OutputCommitter set in config null\n",
            "2024-03-16 13:51:55,597 INFO output.PathOutputCommitterFactory: No output committer factory defined, defaulting to FileOutputCommitterFactory\n",
            "2024-03-16 13:51:55,599 INFO output.FileOutputCommitter: File Output Committer Algorithm version is 2\n",
            "2024-03-16 13:51:55,599 INFO output.FileOutputCommitter: FileOutputCommitter skip cleanup _temporary folders under output directory:false, ignore cleanup failures: false\n",
            "2024-03-16 13:51:55,600 INFO mapred.LocalJobRunner: OutputCommitter is org.apache.hadoop.mapreduce.lib.output.FileOutputCommitter\n",
            "2024-03-16 13:51:55,671 INFO mapred.LocalJobRunner: Waiting for map tasks\n",
            "2024-03-16 13:51:55,672 INFO mapred.LocalJobRunner: Starting task: attempt_local895189484_0001_m_000000_0\n",
            "2024-03-16 13:51:55,721 INFO output.PathOutputCommitterFactory: No output committer factory defined, defaulting to FileOutputCommitterFactory\n",
            "2024-03-16 13:51:55,721 INFO output.FileOutputCommitter: File Output Committer Algorithm version is 2\n",
            "2024-03-16 13:51:55,721 INFO output.FileOutputCommitter: FileOutputCommitter skip cleanup _temporary folders under output directory:false, ignore cleanup failures: false\n",
            "2024-03-16 13:51:55,757 INFO mapred.Task:  Using ResourceCalculatorProcessTree : [ ]\n",
            "2024-03-16 13:51:55,766 INFO mapred.MapTask: Processing split: file:/content/input/text.txt:0+594\n",
            "2024-03-16 13:51:55,881 INFO mapred.MapTask: (EQUATOR) 0 kvi 26214396(104857584)\n",
            "2024-03-16 13:51:55,881 INFO mapred.MapTask: mapreduce.task.io.sort.mb: 100\n",
            "2024-03-16 13:51:55,881 INFO mapred.MapTask: soft limit at 83886080\n",
            "2024-03-16 13:51:55,881 INFO mapred.MapTask: bufstart = 0; bufvoid = 104857600\n",
            "2024-03-16 13:51:55,881 INFO mapred.MapTask: kvstart = 26214396; length = 6553600\n",
            "2024-03-16 13:51:55,889 INFO mapred.MapTask: Map output collector class = org.apache.hadoop.mapred.MapTask$MapOutputBuffer\n",
            "2024-03-16 13:51:55,920 INFO mapred.LocalJobRunner: \n",
            "2024-03-16 13:51:55,922 INFO mapred.MapTask: Starting flush of map output\n",
            "2024-03-16 13:51:55,923 INFO mapred.MapTask: Spilling map output\n",
            "2024-03-16 13:51:55,923 INFO mapred.MapTask: bufstart = 0; bufend = 978; bufvoid = 104857600\n",
            "2024-03-16 13:51:55,923 INFO mapred.MapTask: kvstart = 26214396(104857584); kvend = 26214012(104856048); length = 385/6553600\n",
            "2024-03-16 13:51:55,959 INFO mapred.MapTask: Finished spill 0\n",
            "2024-03-16 13:51:55,979 INFO mapred.Task: Task:attempt_local895189484_0001_m_000000_0 is done. And is in the process of committing\n",
            "2024-03-16 13:51:55,985 INFO mapred.LocalJobRunner: map\n",
            "2024-03-16 13:51:55,985 INFO mapred.Task: Task 'attempt_local895189484_0001_m_000000_0' done.\n",
            "2024-03-16 13:51:56,000 INFO mapred.Task: Final Counters for attempt_local895189484_0001_m_000000_0: Counters: 18\n",
            "\tFile System Counters\n",
            "\t\tFILE: Number of bytes read=282111\n",
            "\t\tFILE: Number of bytes written=917575\n",
            "\t\tFILE: Number of read operations=0\n",
            "\t\tFILE: Number of large read operations=0\n",
            "\t\tFILE: Number of write operations=0\n",
            "\tMap-Reduce Framework\n",
            "\t\tMap input records=8\n",
            "\t\tMap output records=97\n",
            "\t\tMap output bytes=978\n",
            "\t\tMap output materialized bytes=1035\n",
            "\t\tInput split bytes=93\n",
            "\t\tCombine input records=97\n",
            "\t\tCombine output records=83\n",
            "\t\tSpilled Records=83\n",
            "\t\tFailed Shuffles=0\n",
            "\t\tMerged Map outputs=0\n",
            "\t\tGC time elapsed (ms)=0\n",
            "\t\tTotal committed heap usage (bytes)=258473984\n",
            "\tFile Input Format Counters \n",
            "\t\tBytes Read=614\n",
            "2024-03-16 13:51:56,001 INFO mapred.LocalJobRunner: Finishing task: attempt_local895189484_0001_m_000000_0\n",
            "2024-03-16 13:51:56,005 INFO mapred.LocalJobRunner: map task executor complete.\n",
            "2024-03-16 13:51:56,019 INFO mapred.LocalJobRunner: Waiting for reduce tasks\n",
            "2024-03-16 13:51:56,019 INFO mapred.LocalJobRunner: Starting task: attempt_local895189484_0001_r_000000_0\n",
            "2024-03-16 13:51:56,068 INFO output.PathOutputCommitterFactory: No output committer factory defined, defaulting to FileOutputCommitterFactory\n",
            "2024-03-16 13:51:56,069 INFO output.FileOutputCommitter: File Output Committer Algorithm version is 2\n",
            "2024-03-16 13:51:56,069 INFO output.FileOutputCommitter: FileOutputCommitter skip cleanup _temporary folders under output directory:false, ignore cleanup failures: false\n",
            "2024-03-16 13:51:56,069 INFO mapred.Task:  Using ResourceCalculatorProcessTree : [ ]\n",
            "2024-03-16 13:51:56,075 INFO mapred.ReduceTask: Using ShuffleConsumerPlugin: org.apache.hadoop.mapreduce.task.reduce.Shuffle@7f3368ff\n",
            "2024-03-16 13:51:56,077 WARN impl.MetricsSystemImpl: JobTracker metrics system already initialized!\n",
            "2024-03-16 13:51:56,109 INFO reduce.MergeManagerImpl: MergerManager: memoryLimit=2117966208, maxSingleShuffleLimit=529491552, mergeThreshold=1397857792, ioSortFactor=10, memToMemMergeOutputsThreshold=10\n",
            "2024-03-16 13:51:56,112 INFO reduce.EventFetcher: attempt_local895189484_0001_r_000000_0 Thread started: EventFetcher for fetching Map Completion Events\n",
            "2024-03-16 13:51:56,161 INFO reduce.LocalFetcher: localfetcher#1 about to shuffle output of map attempt_local895189484_0001_m_000000_0 decomp: 1031 len: 1035 to MEMORY\n",
            "2024-03-16 13:51:56,167 INFO reduce.InMemoryMapOutput: Read 1031 bytes from map-output for attempt_local895189484_0001_m_000000_0\n",
            "2024-03-16 13:51:56,169 INFO reduce.MergeManagerImpl: closeInMemoryFile -> map-output of size: 1031, inMemoryMapOutputs.size() -> 1, commitMemory -> 0, usedMemory ->1031\n",
            "2024-03-16 13:51:56,171 INFO reduce.EventFetcher: EventFetcher is interrupted.. Returning\n",
            "2024-03-16 13:51:56,172 INFO mapred.LocalJobRunner: 1 / 1 copied.\n",
            "2024-03-16 13:51:56,173 INFO reduce.MergeManagerImpl: finalMerge called with 1 in-memory map-outputs and 0 on-disk map-outputs\n",
            "2024-03-16 13:51:56,183 INFO mapred.Merger: Merging 1 sorted segments\n",
            "2024-03-16 13:51:56,184 INFO mapred.Merger: Down to the last merge-pass, with 1 segments left of total size: 1022 bytes\n",
            "2024-03-16 13:51:56,187 INFO reduce.MergeManagerImpl: Merged 1 segments, 1031 bytes to disk to satisfy reduce memory limit\n",
            "2024-03-16 13:51:56,191 INFO reduce.MergeManagerImpl: Merging 1 files, 1035 bytes from disk\n",
            "2024-03-16 13:51:56,193 INFO reduce.MergeManagerImpl: Merging 0 segments, 0 bytes from memory into reduce\n",
            "2024-03-16 13:51:56,193 INFO mapred.Merger: Merging 1 sorted segments\n",
            "2024-03-16 13:51:56,194 INFO mapred.Merger: Down to the last merge-pass, with 1 segments left of total size: 1022 bytes\n",
            "2024-03-16 13:51:56,195 INFO mapred.LocalJobRunner: 1 / 1 copied.\n",
            "2024-03-16 13:51:56,200 INFO Configuration.deprecation: mapred.skip.on is deprecated. Instead, use mapreduce.job.skiprecords\n",
            "2024-03-16 13:51:56,208 INFO mapred.Task: Task:attempt_local895189484_0001_r_000000_0 is done. And is in the process of committing\n",
            "2024-03-16 13:51:56,209 INFO mapred.LocalJobRunner: 1 / 1 copied.\n",
            "2024-03-16 13:51:56,209 INFO mapred.Task: Task attempt_local895189484_0001_r_000000_0 is allowed to commit now\n",
            "2024-03-16 13:51:56,211 INFO output.FileOutputCommitter: Saved output of task 'attempt_local895189484_0001_r_000000_0' to file:/content/output\n",
            "2024-03-16 13:51:56,212 INFO mapred.LocalJobRunner: reduce > reduce\n",
            "2024-03-16 13:51:56,212 INFO mapred.Task: Task 'attempt_local895189484_0001_r_000000_0' done.\n",
            "2024-03-16 13:51:56,213 INFO mapred.Task: Final Counters for attempt_local895189484_0001_r_000000_0: Counters: 24\n",
            "\tFile System Counters\n",
            "\t\tFILE: Number of bytes read=284213\n",
            "\t\tFILE: Number of bytes written=919323\n",
            "\t\tFILE: Number of read operations=0\n",
            "\t\tFILE: Number of large read operations=0\n",
            "\t\tFILE: Number of write operations=0\n",
            "\tMap-Reduce Framework\n",
            "\t\tCombine input records=0\n",
            "\t\tCombine output records=0\n",
            "\t\tReduce input groups=83\n",
            "\t\tReduce shuffle bytes=1035\n",
            "\t\tReduce input records=83\n",
            "\t\tReduce output records=83\n",
            "\t\tSpilled Records=83\n",
            "\t\tShuffled Maps =1\n",
            "\t\tFailed Shuffles=0\n",
            "\t\tMerged Map outputs=1\n",
            "\t\tGC time elapsed (ms)=31\n",
            "\t\tTotal committed heap usage (bytes)=258473984\n",
            "\tShuffle Errors\n",
            "\t\tBAD_ID=0\n",
            "\t\tCONNECTION=0\n",
            "\t\tIO_ERROR=0\n",
            "\t\tWRONG_LENGTH=0\n",
            "\t\tWRONG_MAP=0\n",
            "\t\tWRONG_REDUCE=0\n",
            "\tFile Output Format Counters \n",
            "\t\tBytes Written=713\n",
            "2024-03-16 13:51:56,213 INFO mapred.LocalJobRunner: Finishing task: attempt_local895189484_0001_r_000000_0\n",
            "2024-03-16 13:51:56,213 INFO mapred.LocalJobRunner: reduce task executor complete.\n",
            "2024-03-16 13:51:56,587 INFO mapreduce.Job: Job job_local895189484_0001 running in uber mode : false\n",
            "2024-03-16 13:51:56,588 INFO mapreduce.Job:  map 100% reduce 100%\n",
            "2024-03-16 13:51:56,590 INFO mapreduce.Job: Job job_local895189484_0001 completed successfully\n",
            "2024-03-16 13:51:56,599 INFO mapreduce.Job: Counters: 30\n",
            "\tFile System Counters\n",
            "\t\tFILE: Number of bytes read=566324\n",
            "\t\tFILE: Number of bytes written=1836898\n",
            "\t\tFILE: Number of read operations=0\n",
            "\t\tFILE: Number of large read operations=0\n",
            "\t\tFILE: Number of write operations=0\n",
            "\tMap-Reduce Framework\n",
            "\t\tMap input records=8\n",
            "\t\tMap output records=97\n",
            "\t\tMap output bytes=978\n",
            "\t\tMap output materialized bytes=1035\n",
            "\t\tInput split bytes=93\n",
            "\t\tCombine input records=97\n",
            "\t\tCombine output records=83\n",
            "\t\tReduce input groups=83\n",
            "\t\tReduce shuffle bytes=1035\n",
            "\t\tReduce input records=83\n",
            "\t\tReduce output records=83\n",
            "\t\tSpilled Records=166\n",
            "\t\tShuffled Maps =1\n",
            "\t\tFailed Shuffles=0\n",
            "\t\tMerged Map outputs=1\n",
            "\t\tGC time elapsed (ms)=31\n",
            "\t\tTotal committed heap usage (bytes)=516947968\n",
            "\tShuffle Errors\n",
            "\t\tBAD_ID=0\n",
            "\t\tCONNECTION=0\n",
            "\t\tIO_ERROR=0\n",
            "\t\tWRONG_LENGTH=0\n",
            "\t\tWRONG_MAP=0\n",
            "\t\tWRONG_REDUCE=0\n",
            "\tFile Input Format Counters \n",
            "\t\tBytes Read=614\n",
            "\tFile Output Format Counters \n",
            "\t\tBytes Written=713\n"
          ]
        }
      ],
      "source": [
        "!yarn jar /content/hadoop-3.3.6/share/hadoop/mapreduce/hadoop-mapreduce-examples-3.3.6.jar wordcount input output"
      ]
    },
    {
      "cell_type": "markdown",
      "source": [
        "# ***count the words***"
      ],
      "metadata": {
        "id": "jxN5Z1-AjvP3"
      }
    },
    {
      "cell_type": "code",
      "source": [
        "!cat /content/output/part-r-00000"
      ],
      "metadata": {
        "id": "2or4I2kydUsn",
        "outputId": "66b21b4b-573b-4b5f-b630-8513ab6aa058",
        "colab": {
          "base_uri": "https://localhost:8080/"
        }
      },
      "execution_count": 69,
      "outputs": [
        {
          "output_type": "stream",
          "name": "stdout",
          "text": [
            "$16bn.\t1\n",
            "$6.8bn\t1\n",
            "(Â£3.6bn),\t1\n",
            "2002\t1\n",
            "AT&T\t1\n",
            "April,\t1\n",
            "MCI\t2\n",
            "Monday\t1\n",
            "Qwest.\t1\n",
            "SBC\t1\n",
            "The\t3\n",
            "US\t2\n",
            "Verizon\t1\n",
            "WorldCom.\t1\n",
            "a\t3\n",
            "according\t1\n",
            "admission\t1\n",
            "agency\t1\n",
            "and\t1\n",
            "are\t1\n",
            "bankruptcy\t2\n",
            "battle\t1\n",
            "be\t1\n",
            "being\t1\n",
            "bid\t2\n",
            "booked\t1\n",
            "bought\t1\n",
            "bust\t1\n",
            "by\t1\n",
            "consolidating\t1\n",
            "deal\t1\n",
            "despite\t1\n",
            "earlier\t1\n",
            "exited\t1\n",
            "expected\t1\n",
            "expenses\t1\n",
            "fast,\t1\n",
            "firm\t1\n",
            "firms\t1\n",
            "followed\t1\n",
            "for\t2\n",
            "former\t2\n",
            "from\t1\n",
            "giant\t1\n",
            "gone\t1\n",
            "has\t1\n",
            "having\t1\n",
            "higher\t1\n",
            "illegally\t1\n",
            "in\t2\n",
            "inflated\t1\n",
            "is\t1\n",
            "it\t1\n",
            "its\t1\n",
            "long-distance\t1\n",
            "market\t1\n",
            "morning,\t1\n",
            "name\t1\n",
            "news\t1\n",
            "on\t1\n",
            "phone\t1\n",
            "previous\t1\n",
            "profits.\t1\n",
            "reports\t1\n",
            "reports,\t1\n",
            "say.\t1\n",
            "seal\t1\n",
            "subsidiary\t1\n",
            "takeover\t1\n",
            "telecoms\t1\n",
            "that\t1\n",
            "the\t1\n",
            "this\t1\n",
            "thought\t1\n",
            "to\t3\n",
            "two\t1\n",
            "under\t1\n",
            "was\t1\n",
            "what\t1\n",
            "with\t2\n",
            "won\t1\n",
            "worth\t1\n",
            "year\t1\n"
          ]
        }
      ]
    }
  ],
  "metadata": {
    "colab": {
      "provenance": [],
      "include_colab_link": true
    },
    "kernelspec": {
      "display_name": "Python 3",
      "name": "python3"
    },
    "language_info": {
      "name": "python"
    }
  },
  "nbformat": 4,
  "nbformat_minor": 0
}