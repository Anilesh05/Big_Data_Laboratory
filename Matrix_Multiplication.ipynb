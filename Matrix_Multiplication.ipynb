{
  "nbformat": 4,
  "nbformat_minor": 0,
  "metadata": {
    "colab": {
      "provenance": [],
      "authorship_tag": "ABX9TyPtJWPS91Putox1Wm+TXBkh",
      "include_colab_link": true
    },
    "kernelspec": {
      "name": "python3",
      "display_name": "Python 3"
    },
    "language_info": {
      "name": "python"
    }
  },
  "cells": [
    {
      "cell_type": "markdown",
      "metadata": {
        "id": "view-in-github",
        "colab_type": "text"
      },
      "source": [
        "<a href=\"https://colab.research.google.com/github/Anilesh05/Big_Data_Laboratory/blob/main/Matrix_Multiplication.ipynb\" target=\"_parent\"><img src=\"https://colab.research.google.com/assets/colab-badge.svg\" alt=\"Open In Colab\"/></a>"
      ]
    },
    {
      "cell_type": "markdown",
      "source": [
        "## Installing jdk using apt package manager\n",
        "## Downloading and installing hadoop  "
      ],
      "metadata": {
        "id": "GnBpUf8M9h01"
      }
    },
    {
      "cell_type": "code",
      "execution_count": 1,
      "metadata": {
        "colab": {
          "base_uri": "https://localhost:8080/"
        },
        "id": "N8ajKr3Ew67N",
        "outputId": "bc94b559-c786-422b-b73f-30c04ddcbf58"
      },
      "outputs": [
        {
          "output_type": "stream",
          "name": "stdout",
          "text": [
            "Reading package lists... Done\n",
            "Building dependency tree... Done\n",
            "Reading state information... Done\n",
            "The following additional packages will be installed:\n",
            "  fonts-dejavu-core fonts-dejavu-extra libatk-wrapper-java libatk-wrapper-java-jni libfontenc1\n",
            "  libgail-common libgail18 libgtk2.0-0 libgtk2.0-bin libgtk2.0-common libice-dev librsvg2-common\n",
            "  libsm-dev libxkbfile1 libxt-dev libxtst6 libxxf86dga1 openjdk-8-jdk-headless openjdk-8-jre\n",
            "  openjdk-8-jre-headless x11-utils\n",
            "Suggested packages:\n",
            "  gvfs libice-doc libsm-doc libxt-doc openjdk-8-demo openjdk-8-source visualvm libnss-mdns\n",
            "  fonts-nanum fonts-ipafont-gothic fonts-ipafont-mincho fonts-wqy-microhei fonts-wqy-zenhei\n",
            "  fonts-indic mesa-utils\n",
            "The following NEW packages will be installed:\n",
            "  fonts-dejavu-core fonts-dejavu-extra libatk-wrapper-java libatk-wrapper-java-jni libfontenc1\n",
            "  libgail-common libgail18 libgtk2.0-0 libgtk2.0-bin libgtk2.0-common libice-dev librsvg2-common\n",
            "  libsm-dev libxkbfile1 libxt-dev libxtst6 libxxf86dga1 openjdk-8-jdk openjdk-8-jdk-headless\n",
            "  openjdk-8-jre openjdk-8-jre-headless x11-utils\n",
            "0 upgraded, 22 newly installed, 0 to remove and 38 not upgraded.\n",
            "Need to get 50.0 MB of archives.\n",
            "After this operation, 169 MB of additional disk space will be used.\n",
            "Get:1 http://archive.ubuntu.com/ubuntu jammy/main amd64 fonts-dejavu-core all 2.37-2build1 [1,041 kB]\n",
            "Get:2 http://archive.ubuntu.com/ubuntu jammy/main amd64 fonts-dejavu-extra all 2.37-2build1 [2,041 kB]\n",
            "Get:3 http://archive.ubuntu.com/ubuntu jammy/main amd64 libfontenc1 amd64 1:1.1.4-1build3 [14.7 kB]\n",
            "Get:4 http://archive.ubuntu.com/ubuntu jammy/main amd64 libxkbfile1 amd64 1:1.1.0-1build3 [71.8 kB]\n",
            "Get:5 http://archive.ubuntu.com/ubuntu jammy/main amd64 libxtst6 amd64 2:1.2.3-1build4 [13.4 kB]\n",
            "Get:6 http://archive.ubuntu.com/ubuntu jammy/main amd64 libxxf86dga1 amd64 2:1.1.5-0ubuntu3 [12.6 kB]\n",
            "Get:7 http://archive.ubuntu.com/ubuntu jammy/main amd64 x11-utils amd64 7.7+5build2 [206 kB]\n",
            "Get:8 http://archive.ubuntu.com/ubuntu jammy/main amd64 libatk-wrapper-java all 0.38.0-5build1 [53.1 kB]\n",
            "Get:9 http://archive.ubuntu.com/ubuntu jammy/main amd64 libatk-wrapper-java-jni amd64 0.38.0-5build1 [49.0 kB]\n",
            "Get:10 http://archive.ubuntu.com/ubuntu jammy/main amd64 libgtk2.0-common all 2.24.33-2ubuntu2 [125 kB]\n",
            "Get:11 http://archive.ubuntu.com/ubuntu jammy/main amd64 libgtk2.0-0 amd64 2.24.33-2ubuntu2 [2,037 kB]\n",
            "Get:12 http://archive.ubuntu.com/ubuntu jammy/main amd64 libgail18 amd64 2.24.33-2ubuntu2 [15.9 kB]\n",
            "Get:13 http://archive.ubuntu.com/ubuntu jammy/main amd64 libgail-common amd64 2.24.33-2ubuntu2 [132 kB]\n",
            "Get:14 http://archive.ubuntu.com/ubuntu jammy/main amd64 libgtk2.0-bin amd64 2.24.33-2ubuntu2 [7,932 B]\n",
            "Get:15 http://archive.ubuntu.com/ubuntu jammy/main amd64 libice-dev amd64 2:1.0.10-1build2 [51.4 kB]\n",
            "Get:16 http://archive.ubuntu.com/ubuntu jammy-updates/main amd64 librsvg2-common amd64 2.52.5+dfsg-3ubuntu0.2 [17.7 kB]\n",
            "Get:17 http://archive.ubuntu.com/ubuntu jammy/main amd64 libsm-dev amd64 2:1.2.3-1build2 [18.1 kB]\n",
            "Get:18 http://archive.ubuntu.com/ubuntu jammy/main amd64 libxt-dev amd64 1:1.2.1-1 [396 kB]\n",
            "Get:19 http://archive.ubuntu.com/ubuntu jammy-updates/universe amd64 openjdk-8-jre-headless amd64 8u392-ga-1~22.04 [30.8 MB]\n",
            "Get:20 http://archive.ubuntu.com/ubuntu jammy-updates/universe amd64 openjdk-8-jre amd64 8u392-ga-1~22.04 [75.5 kB]\n",
            "Get:21 http://archive.ubuntu.com/ubuntu jammy-updates/universe amd64 openjdk-8-jdk-headless amd64 8u392-ga-1~22.04 [8,863 kB]\n",
            "Get:22 http://archive.ubuntu.com/ubuntu jammy-updates/universe amd64 openjdk-8-jdk amd64 8u392-ga-1~22.04 [4,006 kB]\n",
            "Fetched 50.0 MB in 1s (36.8 MB/s)\n",
            "Selecting previously unselected package fonts-dejavu-core.\n",
            "(Reading database ... 121752 files and directories currently installed.)\n",
            "Preparing to unpack .../00-fonts-dejavu-core_2.37-2build1_all.deb ...\n",
            "Unpacking fonts-dejavu-core (2.37-2build1) ...\n",
            "Selecting previously unselected package fonts-dejavu-extra.\n",
            "Preparing to unpack .../01-fonts-dejavu-extra_2.37-2build1_all.deb ...\n",
            "Unpacking fonts-dejavu-extra (2.37-2build1) ...\n",
            "Selecting previously unselected package libfontenc1:amd64.\n",
            "Preparing to unpack .../02-libfontenc1_1%3a1.1.4-1build3_amd64.deb ...\n",
            "Unpacking libfontenc1:amd64 (1:1.1.4-1build3) ...\n",
            "Selecting previously unselected package libxkbfile1:amd64.\n",
            "Preparing to unpack .../03-libxkbfile1_1%3a1.1.0-1build3_amd64.deb ...\n",
            "Unpacking libxkbfile1:amd64 (1:1.1.0-1build3) ...\n",
            "Selecting previously unselected package libxtst6:amd64.\n",
            "Preparing to unpack .../04-libxtst6_2%3a1.2.3-1build4_amd64.deb ...\n",
            "Unpacking libxtst6:amd64 (2:1.2.3-1build4) ...\n",
            "Selecting previously unselected package libxxf86dga1:amd64.\n",
            "Preparing to unpack .../05-libxxf86dga1_2%3a1.1.5-0ubuntu3_amd64.deb ...\n",
            "Unpacking libxxf86dga1:amd64 (2:1.1.5-0ubuntu3) ...\n",
            "Selecting previously unselected package x11-utils.\n",
            "Preparing to unpack .../06-x11-utils_7.7+5build2_amd64.deb ...\n",
            "Unpacking x11-utils (7.7+5build2) ...\n",
            "Selecting previously unselected package libatk-wrapper-java.\n",
            "Preparing to unpack .../07-libatk-wrapper-java_0.38.0-5build1_all.deb ...\n",
            "Unpacking libatk-wrapper-java (0.38.0-5build1) ...\n",
            "Selecting previously unselected package libatk-wrapper-java-jni:amd64.\n",
            "Preparing to unpack .../08-libatk-wrapper-java-jni_0.38.0-5build1_amd64.deb ...\n",
            "Unpacking libatk-wrapper-java-jni:amd64 (0.38.0-5build1) ...\n",
            "Selecting previously unselected package libgtk2.0-common.\n",
            "Preparing to unpack .../09-libgtk2.0-common_2.24.33-2ubuntu2_all.deb ...\n",
            "Unpacking libgtk2.0-common (2.24.33-2ubuntu2) ...\n",
            "Selecting previously unselected package libgtk2.0-0:amd64.\n",
            "Preparing to unpack .../10-libgtk2.0-0_2.24.33-2ubuntu2_amd64.deb ...\n",
            "Unpacking libgtk2.0-0:amd64 (2.24.33-2ubuntu2) ...\n",
            "Selecting previously unselected package libgail18:amd64.\n",
            "Preparing to unpack .../11-libgail18_2.24.33-2ubuntu2_amd64.deb ...\n",
            "Unpacking libgail18:amd64 (2.24.33-2ubuntu2) ...\n",
            "Selecting previously unselected package libgail-common:amd64.\n",
            "Preparing to unpack .../12-libgail-common_2.24.33-2ubuntu2_amd64.deb ...\n",
            "Unpacking libgail-common:amd64 (2.24.33-2ubuntu2) ...\n",
            "Selecting previously unselected package libgtk2.0-bin.\n",
            "Preparing to unpack .../13-libgtk2.0-bin_2.24.33-2ubuntu2_amd64.deb ...\n",
            "Unpacking libgtk2.0-bin (2.24.33-2ubuntu2) ...\n",
            "Selecting previously unselected package libice-dev:amd64.\n",
            "Preparing to unpack .../14-libice-dev_2%3a1.0.10-1build2_amd64.deb ...\n",
            "Unpacking libice-dev:amd64 (2:1.0.10-1build2) ...\n",
            "Selecting previously unselected package librsvg2-common:amd64.\n",
            "Preparing to unpack .../15-librsvg2-common_2.52.5+dfsg-3ubuntu0.2_amd64.deb ...\n",
            "Unpacking librsvg2-common:amd64 (2.52.5+dfsg-3ubuntu0.2) ...\n",
            "Selecting previously unselected package libsm-dev:amd64.\n",
            "Preparing to unpack .../16-libsm-dev_2%3a1.2.3-1build2_amd64.deb ...\n",
            "Unpacking libsm-dev:amd64 (2:1.2.3-1build2) ...\n",
            "Selecting previously unselected package libxt-dev:amd64.\n",
            "Preparing to unpack .../17-libxt-dev_1%3a1.2.1-1_amd64.deb ...\n",
            "Unpacking libxt-dev:amd64 (1:1.2.1-1) ...\n",
            "Selecting previously unselected package openjdk-8-jre-headless:amd64.\n",
            "Preparing to unpack .../18-openjdk-8-jre-headless_8u392-ga-1~22.04_amd64.deb ...\n",
            "Unpacking openjdk-8-jre-headless:amd64 (8u392-ga-1~22.04) ...\n",
            "Selecting previously unselected package openjdk-8-jre:amd64.\n",
            "Preparing to unpack .../19-openjdk-8-jre_8u392-ga-1~22.04_amd64.deb ...\n",
            "Unpacking openjdk-8-jre:amd64 (8u392-ga-1~22.04) ...\n",
            "Selecting previously unselected package openjdk-8-jdk-headless:amd64.\n",
            "Preparing to unpack .../20-openjdk-8-jdk-headless_8u392-ga-1~22.04_amd64.deb ...\n",
            "Unpacking openjdk-8-jdk-headless:amd64 (8u392-ga-1~22.04) ...\n",
            "Selecting previously unselected package openjdk-8-jdk:amd64.\n",
            "Preparing to unpack .../21-openjdk-8-jdk_8u392-ga-1~22.04_amd64.deb ...\n",
            "Unpacking openjdk-8-jdk:amd64 (8u392-ga-1~22.04) ...\n",
            "Setting up libice-dev:amd64 (2:1.0.10-1build2) ...\n",
            "Setting up libsm-dev:amd64 (2:1.2.3-1build2) ...\n",
            "Setting up libxtst6:amd64 (2:1.2.3-1build4) ...\n",
            "Setting up libxxf86dga1:amd64 (2:1.1.5-0ubuntu3) ...\n",
            "Setting up libfontenc1:amd64 (1:1.1.4-1build3) ...\n",
            "Setting up libxt-dev:amd64 (1:1.2.1-1) ...\n",
            "Setting up openjdk-8-jre-headless:amd64 (8u392-ga-1~22.04) ...\n",
            "update-alternatives: using /usr/lib/jvm/java-8-openjdk-amd64/jre/bin/orbd to provide /usr/bin/orbd (orbd) in auto mode\n",
            "update-alternatives: using /usr/lib/jvm/java-8-openjdk-amd64/jre/bin/servertool to provide /usr/bin/servertool (servertool) in auto mode\n",
            "update-alternatives: using /usr/lib/jvm/java-8-openjdk-amd64/jre/bin/tnameserv to provide /usr/bin/tnameserv (tnameserv) in auto mode\n",
            "Setting up fonts-dejavu-core (2.37-2build1) ...\n",
            "Setting up librsvg2-common:amd64 (2.52.5+dfsg-3ubuntu0.2) ...\n",
            "Setting up fonts-dejavu-extra (2.37-2build1) ...\n",
            "Setting up libgtk2.0-common (2.24.33-2ubuntu2) ...\n",
            "Setting up libxkbfile1:amd64 (1:1.1.0-1build3) ...\n",
            "Setting up libgtk2.0-0:amd64 (2.24.33-2ubuntu2) ...\n",
            "Setting up openjdk-8-jdk-headless:amd64 (8u392-ga-1~22.04) ...\n",
            "update-alternatives: using /usr/lib/jvm/java-8-openjdk-amd64/bin/clhsdb to provide /usr/bin/clhsdb (clhsdb) in auto mode\n",
            "update-alternatives: using /usr/lib/jvm/java-8-openjdk-amd64/bin/extcheck to provide /usr/bin/extcheck (extcheck) in auto mode\n",
            "update-alternatives: using /usr/lib/jvm/java-8-openjdk-amd64/bin/hsdb to provide /usr/bin/hsdb (hsdb) in auto mode\n",
            "update-alternatives: using /usr/lib/jvm/java-8-openjdk-amd64/bin/idlj to provide /usr/bin/idlj (idlj) in auto mode\n",
            "update-alternatives: using /usr/lib/jvm/java-8-openjdk-amd64/bin/javah to provide /usr/bin/javah (javah) in auto mode\n",
            "update-alternatives: using /usr/lib/jvm/java-8-openjdk-amd64/bin/jhat to provide /usr/bin/jhat (jhat) in auto mode\n",
            "update-alternatives: using /usr/lib/jvm/java-8-openjdk-amd64/bin/jsadebugd to provide /usr/bin/jsadebugd (jsadebugd) in auto mode\n",
            "update-alternatives: using /usr/lib/jvm/java-8-openjdk-amd64/bin/native2ascii to provide /usr/bin/native2ascii (native2ascii) in auto mode\n",
            "update-alternatives: using /usr/lib/jvm/java-8-openjdk-amd64/bin/schemagen to provide /usr/bin/schemagen (schemagen) in auto mode\n",
            "update-alternatives: using /usr/lib/jvm/java-8-openjdk-amd64/bin/wsgen to provide /usr/bin/wsgen (wsgen) in auto mode\n",
            "update-alternatives: using /usr/lib/jvm/java-8-openjdk-amd64/bin/wsimport to provide /usr/bin/wsimport (wsimport) in auto mode\n",
            "update-alternatives: using /usr/lib/jvm/java-8-openjdk-amd64/bin/xjc to provide /usr/bin/xjc (xjc) in auto mode\n",
            "Setting up libgail18:amd64 (2.24.33-2ubuntu2) ...\n",
            "Setting up libgtk2.0-bin (2.24.33-2ubuntu2) ...\n",
            "Setting up x11-utils (7.7+5build2) ...\n",
            "Setting up libatk-wrapper-java (0.38.0-5build1) ...\n",
            "Setting up libgail-common:amd64 (2.24.33-2ubuntu2) ...\n",
            "Setting up libatk-wrapper-java-jni:amd64 (0.38.0-5build1) ...\n",
            "Setting up openjdk-8-jre:amd64 (8u392-ga-1~22.04) ...\n",
            "update-alternatives: using /usr/lib/jvm/java-8-openjdk-amd64/jre/bin/policytool to provide /usr/bin/policytool (policytool) in auto mode\n",
            "Setting up openjdk-8-jdk:amd64 (8u392-ga-1~22.04) ...\n",
            "update-alternatives: using /usr/lib/jvm/java-8-openjdk-amd64/bin/appletviewer to provide /usr/bin/appletviewer (appletviewer) in auto mode\n",
            "update-alternatives: using /usr/lib/jvm/java-8-openjdk-amd64/bin/jconsole to provide /usr/bin/jconsole (jconsole) in auto mode\n",
            "Processing triggers for hicolor-icon-theme (0.17-2) ...\n",
            "Processing triggers for libc-bin (2.35-0ubuntu3.4) ...\n",
            "/sbin/ldconfig.real: /usr/local/lib/libtbbmalloc.so.2 is not a symbolic link\n",
            "\n",
            "/sbin/ldconfig.real: /usr/local/lib/libtbb.so.12 is not a symbolic link\n",
            "\n",
            "/sbin/ldconfig.real: /usr/local/lib/libtbbbind_2_0.so.3 is not a symbolic link\n",
            "\n",
            "/sbin/ldconfig.real: /usr/local/lib/libtbbbind.so.3 is not a symbolic link\n",
            "\n",
            "/sbin/ldconfig.real: /usr/local/lib/libtbbbind_2_5.so.3 is not a symbolic link\n",
            "\n",
            "/sbin/ldconfig.real: /usr/local/lib/libtbbmalloc_proxy.so.2 is not a symbolic link\n",
            "\n",
            "Processing triggers for man-db (2.10.2-1) ...\n",
            "Processing triggers for libgdk-pixbuf-2.0-0:amd64 (2.42.8+dfsg-1ubuntu0.2) ...\n",
            "Processing triggers for fontconfig (2.13.1-4.2ubuntu5) ...\n",
            "--2024-03-16 14:14:09--  https://dlcdn.apache.org/hadoop/common/hadoop-3.3.6/hadoop-3.3.6.tar.gz\n",
            "Resolving dlcdn.apache.org (dlcdn.apache.org)... 151.101.2.132, 2a04:4e42::644\n",
            "Connecting to dlcdn.apache.org (dlcdn.apache.org)|151.101.2.132|:443... connected.\n",
            "HTTP request sent, awaiting response... 200 OK\n",
            "Length: 730107476 (696M) [application/x-gzip]\n",
            "Saving to: ‘hadoop-3.3.6.tar.gz’\n",
            "\n",
            "hadoop-3.3.6.tar.gz 100%[===================>] 696.28M   100MB/s    in 5.6s    \n",
            "\n",
            "2024-03-16 14:14:15 (123 MB/s) - ‘hadoop-3.3.6.tar.gz’ saved [730107476/730107476]\n",
            "\n"
          ]
        }
      ],
      "source": [
        "!apt-get install openjdk-8-jdk\n",
        "!wget https://dlcdn.apache.org/hadoop/common/hadoop-3.3.6/hadoop-3.3.6.tar.gz\n",
        "!tar fx hadoop-3.3.6.tar.gz\n",
        "import os\n",
        "os.environ[\"JAVA_HOME\"] = \"/usr/lib/jvm/java-8-openjdk-amd64\"\n",
        "os.environ[\"HADOOP_HOME\"] = \"/content/hadoop-3.3.6\"\n",
        "!ln -s /content/hadoop-3.3.6/bin/* /usr/bin"
      ]
    },
    {
      "cell_type": "code",
      "source": [
        "!apt-get install dos2unix"
      ],
      "metadata": {
        "colab": {
          "base_uri": "https://localhost:8080/"
        },
        "id": "vx0HT1eyxxVq",
        "outputId": "ef639247-0832-40be-c2e2-18298ffb7bae"
      },
      "execution_count": 2,
      "outputs": [
        {
          "output_type": "stream",
          "name": "stdout",
          "text": [
            "Reading package lists... Done\n",
            "Building dependency tree... Done\n",
            "Reading state information... Done\n",
            "The following NEW packages will be installed:\n",
            "  dos2unix\n",
            "0 upgraded, 1 newly installed, 0 to remove and 38 not upgraded.\n",
            "Need to get 384 kB of archives.\n",
            "After this operation, 1,367 kB of additional disk space will be used.\n",
            "Get:1 http://archive.ubuntu.com/ubuntu jammy/universe amd64 dos2unix amd64 7.4.2-2 [384 kB]\n",
            "Fetched 384 kB in 0s (913 kB/s)\n",
            "Selecting previously unselected package dos2unix.\n",
            "(Reading database ... 122686 files and directories currently installed.)\n",
            "Preparing to unpack .../dos2unix_7.4.2-2_amd64.deb ...\n",
            "Unpacking dos2unix (7.4.2-2) ...\n",
            "Setting up dos2unix (7.4.2-2) ...\n",
            "Processing triggers for man-db (2.10.2-1) ...\n"
          ]
        }
      ]
    },
    {
      "cell_type": "code",
      "source": [
        "!hdfs dfs -mkdir input"
      ],
      "metadata": {
        "id": "2Po2glo7xr6n"
      },
      "execution_count": 3,
      "outputs": []
    },
    {
      "cell_type": "markdown",
      "source": [
        "# ***Create files in desktop***\n",
        "\n"
      ],
      "metadata": {
        "id": "bw3o7GhR3PrW"
      }
    },
    {
      "cell_type": "code",
      "source": [
        "(mapper.py)\n",
        "\n",
        "#!/usr/bin/env python\n",
        "# map function for matrix multiply\n",
        "#Input file assumed to have lines of the form \"A,i,j,x\", where i is the row index, j is the column index, and x is the value in row i, column j of A. Entries of A are followed by lines of the form \"B,i,j,x\" for the matrix B.\n",
        "#It is assumed that the matrix dimensions are such that the product A*B exists.\n",
        "\n",
        "#Input arguments:\n",
        "#m should be set to the number of rows in A, p should be set to the number of columns in B.\n",
        "\n",
        "import sys\n",
        "import string\n",
        "import numpy\n",
        "\n",
        "#number of rows in A\n",
        "m = 2\n",
        "\n",
        "#number of columns in B\n",
        "p = 3\n",
        "\n",
        "\n",
        "# input comes from STDIN (stream data that goes to the program)\n",
        "for line in sys.stdin:\n",
        "\n",
        "  #Remove leading and trailing whitespace\n",
        "  line = line.strip()\n",
        "\n",
        "  #Split line into array of entry data\n",
        "  entry = line.split(\",\")\n",
        "\n",
        "  # Set row, column, and value for this entry\n",
        "  row = int(entry[1])\n",
        "  col = int(entry[2])\n",
        "  value = float(entry[3])\n",
        "\n",
        "  #If this is an entry in matrix A...\n",
        "  if (entry[0] == \"A\"):\n",
        "\n",
        "    #Generate the necessary key-value pairs\n",
        "    for k in range(p):\n",
        "      print('{0:d},{1:d}\\tA,{2:d},{3:f}'.format(row, k, col, value))\n",
        "\n",
        "  #Otherwise, if this is an entry in matrix B...\n",
        "  else:\n",
        "\n",
        "    #Generate the necessary key-value pairs\n",
        "    for k in range(m):\n",
        "      print('{0:d},{1:d}\\tB,{2:d},{3:f}'.format(k, col, row, value))"
      ],
      "metadata": {
        "id": "1dthjGS52SlE"
      },
      "execution_count": null,
      "outputs": []
    },
    {
      "cell_type": "code",
      "source": [
        "(reducer.py)\n",
        "\n",
        "\n",
        "#!/usr/bin/env python\n",
        "#Reduce function for computing matrix multiply A*B\n",
        "\n",
        "#Input arguments:\n",
        "#variable n should be set to the inner dimension of the matrix product (i.e., the number of columns of A/rows of B)\n",
        "\n",
        "import sys\n",
        "import string\n",
        "import numpy\n",
        "\n",
        "#number of columns of A/rows of B\n",
        "n = 5\n",
        "\n",
        "#Create data structures to hold the current row/column values\n",
        "current_key = None\n",
        "current_res = 0.0\n",
        "value_dict = dict()\n",
        "\n",
        "# input comes from STDIN (stream data that goes to the program)\n",
        "for line in sys.stdin:\n",
        "\n",
        "  #Remove leading and trailing whitespace\n",
        "  line = line.strip()\n",
        "\n",
        "  #Get key/value\n",
        "  key, value = line.split('\\t',1)\n",
        "\n",
        "  #Parse key/value input\n",
        "  try:\n",
        "    row, col = map(int, key.split(','))\n",
        "    value = value.split(',')\n",
        "    key = (row, col)\n",
        "    replicate_key, element_value = int(value[1]), float(value[2])\n",
        "  except:\n",
        "    continue\n",
        "\n",
        "  #If we are still on the same key...\n",
        "  if key == current_key:\n",
        "\n",
        "    #Process key/value pair\n",
        "    if replicate_key not in value_dict:\n",
        "      value_dict[replicate_key] = [element_value]\n",
        "    else:\n",
        "      value_dict[replicate_key].append(element_value)\n",
        "\n",
        "  #Otherwise, if this is a new key...\n",
        "  else:\n",
        "\n",
        "    #If this is a new key and not the first key we've seen\n",
        "    if current_key:\n",
        "\n",
        "      #compute/output result to STDOUT\n",
        "      for j in range(n):\n",
        "        if (j in value_dict) and (len(value_dict[j]) == 2):\n",
        "          current_res += value_dict[j][0] * value_dict[j][1]\n",
        "      print ('({0:d},{1:d}),{2:f}'.format(row, col, current_res))\n",
        "\n",
        "    current_key = key\n",
        "    value_dict = dict()\n",
        "\n",
        "    #Process input for new key\n",
        "    value_dict[replicate_key] = [element_value]\n",
        "    current_res = 0.0\n",
        "\n",
        "\n",
        "#Compute/output result for the last key\n",
        "\n",
        "if current_key:\n",
        "  for j in range(n):\n",
        "    if (j in value_dict) and (len(value_dict[j]) == 2):\n",
        "      current_res += value_dict[j][0] * value_dict[j][1]\n",
        "  print('({0:d},{1:d}),{2:f}'.format(row, col, current_res))"
      ],
      "metadata": {
        "id": "bW8nIIYjm9Wr"
      },
      "execution_count": null,
      "outputs": []
    },
    {
      "cell_type": "code",
      "source": [
        "(matrix.txt)\n",
        "\n",
        "A,0,0,0.0\n",
        "A,0,1,1.0\n",
        "A,0,2,2.0\n",
        "A,0,3,3.0\n",
        "A,0,4,4.0\n",
        "A,1,0,5.0\n",
        "A,1,1,6.0\n",
        "A,1,2,7.0\n",
        "A,1,3,8.0\n",
        "A,1,4,9.0\n",
        "B,0,0,0.0\n",
        "B,0,1,1.0\n",
        "B,0,2,2.0\n",
        "B,1,0,3.0\n",
        "B,1,1,4.0\n",
        "B,1,2,5.0\n",
        "B,2,0,6.0\n",
        "B,2,1,7.0\n",
        "B,2,2,8.0\n",
        "B,3,0,9.0\n",
        "B,3,1,10.0\n",
        "B,3,2,11.0\n",
        "B,4,0,12.0\n",
        "B,4,1,13.0\n",
        "B,4,2,14.0"
      ],
      "metadata": {
        "id": "2O1dIFCgnAlN"
      },
      "execution_count": null,
      "outputs": []
    },
    {
      "cell_type": "markdown",
      "source": [
        "# ***Create a python file mapper.py***\n",
        "### Make the file executable"
      ],
      "metadata": {
        "id": "FTOBTf0fqB3O"
      }
    },
    {
      "cell_type": "code",
      "source": [
        "!dos2unix mapper.py"
      ],
      "metadata": {
        "id": "SmsI7jAqSids",
        "colab": {
          "base_uri": "https://localhost:8080/"
        },
        "outputId": "feed7265-ae6b-4206-f94c-1c5b2b6fc527"
      },
      "execution_count": 18,
      "outputs": [
        {
          "output_type": "stream",
          "name": "stdout",
          "text": [
            "dos2unix: converting file mapper.py to Unix format...\n"
          ]
        }
      ]
    },
    {
      "cell_type": "code",
      "source": [
        "!chmod +x mapper.py"
      ],
      "metadata": {
        "id": "Ha84_cFz9rjk"
      },
      "execution_count": 19,
      "outputs": []
    },
    {
      "cell_type": "markdown",
      "source": [
        "# ***Create a python file reducer***\n",
        "### Make the file executable"
      ],
      "metadata": {
        "id": "S0HP_JtrqLZl"
      }
    },
    {
      "cell_type": "code",
      "source": [
        "!dos2unix reducer.py"
      ],
      "metadata": {
        "id": "84pO6bCoSjVk",
        "colab": {
          "base_uri": "https://localhost:8080/"
        },
        "outputId": "234bbd71-6736-41bd-dbb7-475be25fe5ba"
      },
      "execution_count": 20,
      "outputs": [
        {
          "output_type": "stream",
          "name": "stdout",
          "text": [
            "dos2unix: converting file reducer.py to Unix format...\n"
          ]
        }
      ]
    },
    {
      "cell_type": "code",
      "source": [
        "!chmod +x reducer.py"
      ],
      "metadata": {
        "id": "poFyv9_H-GBz"
      },
      "execution_count": 21,
      "outputs": []
    },
    {
      "cell_type": "markdown",
      "source": [
        "# ***Run Matrix mulitplication through hadoop mapreduce***"
      ],
      "metadata": {
        "id": "K40uBdyOqRn-"
      }
    },
    {
      "cell_type": "code",
      "source": [
        "!hadoop jar /content/hadoop-3.3.6/share/hadoop/tools/lib/hadoop-streaming-3.3.6.jar \\\n",
        "    -files mapper.py,reducer.py \\\n",
        "    -mapper mapper.py \\\n",
        "    -reducer reducer.py \\\n",
        "    -input input \\\n",
        "    -output output"
      ],
      "metadata": {
        "id": "d0nDTOhL-Nb2",
        "colab": {
          "base_uri": "https://localhost:8080/"
        },
        "outputId": "62666a59-2b2d-4f22-eccd-3694da28e159"
      },
      "execution_count": 22,
      "outputs": [
        {
          "output_type": "stream",
          "name": "stdout",
          "text": [
            "2024-03-16 14:21:04,322 INFO impl.MetricsConfig: Loaded properties from hadoop-metrics2.properties\n",
            "2024-03-16 14:21:04,426 INFO impl.MetricsSystemImpl: Scheduled Metric snapshot period at 10 second(s).\n",
            "2024-03-16 14:21:04,426 INFO impl.MetricsSystemImpl: JobTracker metrics system started\n",
            "2024-03-16 14:21:04,447 WARN impl.MetricsSystemImpl: JobTracker metrics system already initialized!\n",
            "2024-03-16 14:21:04,802 INFO mapred.FileInputFormat: Total input files to process : 1\n",
            "2024-03-16 14:21:04,828 INFO mapreduce.JobSubmitter: number of splits:1\n",
            "2024-03-16 14:21:05,032 INFO mapreduce.JobSubmitter: Submitting tokens for job: job_local1355777797_0001\n",
            "2024-03-16 14:21:05,032 INFO mapreduce.JobSubmitter: Executing with tokens: []\n",
            "2024-03-16 14:21:05,463 INFO mapred.LocalDistributedCacheManager: Localized file:/content/mapper.py as file:/tmp/hadoop-root/mapred/local/job_local1355777797_0001_ad765d67-de8a-4eef-a2b1-e2e93e8445f1/mapper.py\n",
            "2024-03-16 14:21:05,479 INFO mapred.LocalDistributedCacheManager: Localized file:/content/reducer.py as file:/tmp/hadoop-root/mapred/local/job_local1355777797_0001_9981ad03-f2ad-4443-98ae-7eef976198df/reducer.py\n",
            "2024-03-16 14:21:05,673 INFO mapreduce.Job: The url to track the job: http://localhost:8080/\n",
            "2024-03-16 14:21:05,675 INFO mapreduce.Job: Running job: job_local1355777797_0001\n",
            "2024-03-16 14:21:05,681 INFO mapred.LocalJobRunner: OutputCommitter set in config null\n",
            "2024-03-16 14:21:05,684 INFO mapred.LocalJobRunner: OutputCommitter is org.apache.hadoop.mapred.FileOutputCommitter\n",
            "2024-03-16 14:21:05,693 INFO output.FileOutputCommitter: File Output Committer Algorithm version is 2\n",
            "2024-03-16 14:21:05,693 INFO output.FileOutputCommitter: FileOutputCommitter skip cleanup _temporary folders under output directory:false, ignore cleanup failures: false\n",
            "2024-03-16 14:21:05,879 INFO mapred.LocalJobRunner: Waiting for map tasks\n",
            "2024-03-16 14:21:05,884 INFO mapred.LocalJobRunner: Starting task: attempt_local1355777797_0001_m_000000_0\n",
            "2024-03-16 14:21:05,920 INFO output.FileOutputCommitter: File Output Committer Algorithm version is 2\n",
            "2024-03-16 14:21:05,920 INFO output.FileOutputCommitter: FileOutputCommitter skip cleanup _temporary folders under output directory:false, ignore cleanup failures: false\n",
            "2024-03-16 14:21:05,956 INFO mapred.Task:  Using ResourceCalculatorProcessTree : [ ]\n",
            "2024-03-16 14:21:05,969 INFO mapred.MapTask: Processing split: file:/content/input/matrix.txt:0+278\n",
            "2024-03-16 14:21:05,987 INFO mapred.MapTask: numReduceTasks: 1\n",
            "2024-03-16 14:21:06,181 INFO mapred.MapTask: (EQUATOR) 0 kvi 26214396(104857584)\n",
            "2024-03-16 14:21:06,181 INFO mapred.MapTask: mapreduce.task.io.sort.mb: 100\n",
            "2024-03-16 14:21:06,181 INFO mapred.MapTask: soft limit at 83886080\n",
            "2024-03-16 14:21:06,181 INFO mapred.MapTask: bufstart = 0; bufvoid = 104857600\n",
            "2024-03-16 14:21:06,181 INFO mapred.MapTask: kvstart = 26214396; length = 6553600\n",
            "2024-03-16 14:21:06,185 INFO mapred.MapTask: Map output collector class = org.apache.hadoop.mapred.MapTask$MapOutputBuffer\n",
            "2024-03-16 14:21:06,192 INFO streaming.PipeMapRed: PipeMapRed exec [/content/./mapper.py]\n",
            "2024-03-16 14:21:06,199 INFO Configuration.deprecation: mapred.work.output.dir is deprecated. Instead, use mapreduce.task.output.dir\n",
            "2024-03-16 14:21:06,202 INFO Configuration.deprecation: mapred.local.dir is deprecated. Instead, use mapreduce.cluster.local.dir\n",
            "2024-03-16 14:21:06,202 INFO Configuration.deprecation: map.input.file is deprecated. Instead, use mapreduce.map.input.file\n",
            "2024-03-16 14:21:06,203 INFO Configuration.deprecation: map.input.length is deprecated. Instead, use mapreduce.map.input.length\n",
            "2024-03-16 14:21:06,204 INFO Configuration.deprecation: mapred.job.id is deprecated. Instead, use mapreduce.job.id\n",
            "2024-03-16 14:21:06,205 INFO Configuration.deprecation: mapred.task.partition is deprecated. Instead, use mapreduce.task.partition\n",
            "2024-03-16 14:21:06,207 INFO Configuration.deprecation: map.input.start is deprecated. Instead, use mapreduce.map.input.start\n",
            "2024-03-16 14:21:06,207 INFO Configuration.deprecation: mapred.task.is.map is deprecated. Instead, use mapreduce.task.ismap\n",
            "2024-03-16 14:21:06,208 INFO Configuration.deprecation: mapred.task.id is deprecated. Instead, use mapreduce.task.attempt.id\n",
            "2024-03-16 14:21:06,208 INFO Configuration.deprecation: mapred.tip.id is deprecated. Instead, use mapreduce.task.id\n",
            "2024-03-16 14:21:06,209 INFO Configuration.deprecation: mapred.skip.on is deprecated. Instead, use mapreduce.job.skiprecords\n",
            "2024-03-16 14:21:06,209 INFO Configuration.deprecation: user.name is deprecated. Instead, use mapreduce.job.user.name\n",
            "2024-03-16 14:21:06,245 INFO streaming.PipeMapRed: R/W/S=1/0/0 in:NA [rec/s] out:NA [rec/s]\n",
            "2024-03-16 14:21:06,245 INFO streaming.PipeMapRed: R/W/S=10/0/0 in:NA [rec/s] out:NA [rec/s]\n",
            "2024-03-16 14:21:06,553 INFO streaming.PipeMapRed: Records R/W=25/1\n",
            "2024-03-16 14:21:06,576 INFO streaming.PipeMapRed: MRErrorThread done\n",
            "2024-03-16 14:21:06,578 INFO streaming.PipeMapRed: mapRedFinished\n",
            "2024-03-16 14:21:06,586 INFO mapred.LocalJobRunner: \n",
            "2024-03-16 14:21:06,586 INFO mapred.MapTask: Starting flush of map output\n",
            "2024-03-16 14:21:06,586 INFO mapred.MapTask: Spilling map output\n",
            "2024-03-16 14:21:06,586 INFO mapred.MapTask: bufstart = 0; bufend = 1030; bufvoid = 104857600\n",
            "2024-03-16 14:21:06,586 INFO mapred.MapTask: kvstart = 26214396(104857584); kvend = 26214160(104856640); length = 237/6553600\n",
            "2024-03-16 14:21:06,606 INFO mapred.MapTask: Finished spill 0\n",
            "2024-03-16 14:21:06,619 INFO mapred.Task: Task:attempt_local1355777797_0001_m_000000_0 is done. And is in the process of committing\n",
            "2024-03-16 14:21:06,624 INFO mapred.LocalJobRunner: Records R/W=25/1\n",
            "2024-03-16 14:21:06,624 INFO mapred.Task: Task 'attempt_local1355777797_0001_m_000000_0' done.\n",
            "2024-03-16 14:21:06,636 INFO mapred.Task: Final Counters for attempt_local1355777797_0001_m_000000_0: Counters: 17\n",
            "\tFile System Counters\n",
            "\t\tFILE: Number of bytes read=144838\n",
            "\t\tFILE: Number of bytes written=790025\n",
            "\t\tFILE: Number of read operations=0\n",
            "\t\tFILE: Number of large read operations=0\n",
            "\t\tFILE: Number of write operations=0\n",
            "\tMap-Reduce Framework\n",
            "\t\tMap input records=25\n",
            "\t\tMap output records=60\n",
            "\t\tMap output bytes=1030\n",
            "\t\tMap output materialized bytes=1156\n",
            "\t\tInput split bytes=82\n",
            "\t\tCombine input records=0\n",
            "\t\tSpilled Records=60\n",
            "\t\tFailed Shuffles=0\n",
            "\t\tMerged Map outputs=0\n",
            "\t\tGC time elapsed (ms)=0\n",
            "\t\tTotal committed heap usage (bytes)=309329920\n",
            "\tFile Input Format Counters \n",
            "\t\tBytes Read=278\n",
            "2024-03-16 14:21:06,636 INFO mapred.LocalJobRunner: Finishing task: attempt_local1355777797_0001_m_000000_0\n",
            "2024-03-16 14:21:06,637 INFO mapred.LocalJobRunner: map task executor complete.\n",
            "2024-03-16 14:21:06,640 INFO mapred.LocalJobRunner: Waiting for reduce tasks\n",
            "2024-03-16 14:21:06,640 INFO mapred.LocalJobRunner: Starting task: attempt_local1355777797_0001_r_000000_0\n",
            "2024-03-16 14:21:06,649 INFO output.FileOutputCommitter: File Output Committer Algorithm version is 2\n",
            "2024-03-16 14:21:06,649 INFO output.FileOutputCommitter: FileOutputCommitter skip cleanup _temporary folders under output directory:false, ignore cleanup failures: false\n",
            "2024-03-16 14:21:06,649 INFO mapred.Task:  Using ResourceCalculatorProcessTree : [ ]\n",
            "2024-03-16 14:21:06,652 INFO mapred.ReduceTask: Using ShuffleConsumerPlugin: org.apache.hadoop.mapreduce.task.reduce.Shuffle@7adc7363\n",
            "2024-03-16 14:21:06,654 WARN impl.MetricsSystemImpl: JobTracker metrics system already initialized!\n",
            "2024-03-16 14:21:06,677 INFO reduce.MergeManagerImpl: MergerManager: memoryLimit=2117966208, maxSingleShuffleLimit=529491552, mergeThreshold=1397857792, ioSortFactor=10, memToMemMergeOutputsThreshold=10\n",
            "2024-03-16 14:21:06,680 INFO reduce.EventFetcher: attempt_local1355777797_0001_r_000000_0 Thread started: EventFetcher for fetching Map Completion Events\n",
            "2024-03-16 14:21:06,690 INFO mapreduce.Job: Job job_local1355777797_0001 running in uber mode : false\n",
            "2024-03-16 14:21:06,691 INFO mapreduce.Job:  map 100% reduce 0%\n",
            "2024-03-16 14:21:06,727 INFO reduce.LocalFetcher: localfetcher#1 about to shuffle output of map attempt_local1355777797_0001_m_000000_0 decomp: 1152 len: 1156 to MEMORY\n",
            "2024-03-16 14:21:06,736 INFO reduce.InMemoryMapOutput: Read 1152 bytes from map-output for attempt_local1355777797_0001_m_000000_0\n",
            "2024-03-16 14:21:06,738 INFO reduce.MergeManagerImpl: closeInMemoryFile -> map-output of size: 1152, inMemoryMapOutputs.size() -> 1, commitMemory -> 0, usedMemory ->1152\n",
            "2024-03-16 14:21:06,744 INFO reduce.EventFetcher: EventFetcher is interrupted.. Returning\n",
            "2024-03-16 14:21:06,745 INFO mapred.LocalJobRunner: 1 / 1 copied.\n",
            "2024-03-16 14:21:06,745 INFO reduce.MergeManagerImpl: finalMerge called with 1 in-memory map-outputs and 0 on-disk map-outputs\n",
            "2024-03-16 14:21:06,753 INFO mapred.Merger: Merging 1 sorted segments\n",
            "2024-03-16 14:21:06,753 INFO mapred.Merger: Down to the last merge-pass, with 1 segments left of total size: 1146 bytes\n",
            "2024-03-16 14:21:06,756 INFO reduce.MergeManagerImpl: Merged 1 segments, 1152 bytes to disk to satisfy reduce memory limit\n",
            "2024-03-16 14:21:06,757 INFO reduce.MergeManagerImpl: Merging 1 files, 1156 bytes from disk\n",
            "2024-03-16 14:21:06,758 INFO reduce.MergeManagerImpl: Merging 0 segments, 0 bytes from memory into reduce\n",
            "2024-03-16 14:21:06,758 INFO mapred.Merger: Merging 1 sorted segments\n",
            "2024-03-16 14:21:06,759 INFO mapred.Merger: Down to the last merge-pass, with 1 segments left of total size: 1146 bytes\n",
            "2024-03-16 14:21:06,760 INFO mapred.LocalJobRunner: 1 / 1 copied.\n",
            "2024-03-16 14:21:06,767 INFO streaming.PipeMapRed: PipeMapRed exec [/content/./reducer.py]\n",
            "2024-03-16 14:21:06,769 INFO Configuration.deprecation: mapred.job.tracker is deprecated. Instead, use mapreduce.jobtracker.address\n",
            "2024-03-16 14:21:06,771 INFO Configuration.deprecation: mapred.map.tasks is deprecated. Instead, use mapreduce.job.maps\n",
            "2024-03-16 14:21:06,786 INFO streaming.PipeMapRed: R/W/S=1/0/0 in:NA [rec/s] out:NA [rec/s]\n",
            "2024-03-16 14:21:06,787 INFO streaming.PipeMapRed: R/W/S=10/0/0 in:NA [rec/s] out:NA [rec/s]\n",
            "2024-03-16 14:21:07,004 INFO streaming.PipeMapRed: Records R/W=60/1\n",
            "2024-03-16 14:21:07,031 INFO streaming.PipeMapRed: MRErrorThread done\n",
            "2024-03-16 14:21:07,031 INFO streaming.PipeMapRed: mapRedFinished\n",
            "2024-03-16 14:21:07,033 INFO mapred.Task: Task:attempt_local1355777797_0001_r_000000_0 is done. And is in the process of committing\n",
            "2024-03-16 14:21:07,034 INFO mapred.LocalJobRunner: 1 / 1 copied.\n",
            "2024-03-16 14:21:07,034 INFO mapred.Task: Task attempt_local1355777797_0001_r_000000_0 is allowed to commit now\n",
            "2024-03-16 14:21:07,036 INFO output.FileOutputCommitter: Saved output of task 'attempt_local1355777797_0001_r_000000_0' to file:/content/output\n",
            "2024-03-16 14:21:07,038 INFO mapred.LocalJobRunner: Records R/W=60/1 > reduce\n",
            "2024-03-16 14:21:07,038 INFO mapred.Task: Task 'attempt_local1355777797_0001_r_000000_0' done.\n",
            "2024-03-16 14:21:07,038 INFO mapred.Task: Final Counters for attempt_local1355777797_0001_r_000000_0: Counters: 24\n",
            "\tFile System Counters\n",
            "\t\tFILE: Number of bytes read=147182\n",
            "\t\tFILE: Number of bytes written=791300\n",
            "\t\tFILE: Number of read operations=0\n",
            "\t\tFILE: Number of large read operations=0\n",
            "\t\tFILE: Number of write operations=0\n",
            "\tMap-Reduce Framework\n",
            "\t\tCombine input records=0\n",
            "\t\tCombine output records=0\n",
            "\t\tReduce input groups=6\n",
            "\t\tReduce shuffle bytes=1156\n",
            "\t\tReduce input records=60\n",
            "\t\tReduce output records=6\n",
            "\t\tSpilled Records=60\n",
            "\t\tShuffled Maps =1\n",
            "\t\tFailed Shuffles=0\n",
            "\t\tMerged Map outputs=1\n",
            "\t\tGC time elapsed (ms)=0\n",
            "\t\tTotal committed heap usage (bytes)=309329920\n",
            "\tShuffle Errors\n",
            "\t\tBAD_ID=0\n",
            "\t\tCONNECTION=0\n",
            "\t\tIO_ERROR=0\n",
            "\t\tWRONG_LENGTH=0\n",
            "\t\tWRONG_MAP=0\n",
            "\t\tWRONG_REDUCE=0\n",
            "\tFile Output Format Counters \n",
            "\t\tBytes Written=119\n",
            "2024-03-16 14:21:07,040 INFO mapred.LocalJobRunner: Finishing task: attempt_local1355777797_0001_r_000000_0\n",
            "2024-03-16 14:21:07,040 INFO mapred.LocalJobRunner: reduce task executor complete.\n",
            "2024-03-16 14:21:07,692 INFO mapreduce.Job:  map 100% reduce 100%\n",
            "2024-03-16 14:21:07,693 INFO mapreduce.Job: Job job_local1355777797_0001 completed successfully\n",
            "2024-03-16 14:21:07,706 INFO mapreduce.Job: Counters: 30\n",
            "\tFile System Counters\n",
            "\t\tFILE: Number of bytes read=292020\n",
            "\t\tFILE: Number of bytes written=1581325\n",
            "\t\tFILE: Number of read operations=0\n",
            "\t\tFILE: Number of large read operations=0\n",
            "\t\tFILE: Number of write operations=0\n",
            "\tMap-Reduce Framework\n",
            "\t\tMap input records=25\n",
            "\t\tMap output records=60\n",
            "\t\tMap output bytes=1030\n",
            "\t\tMap output materialized bytes=1156\n",
            "\t\tInput split bytes=82\n",
            "\t\tCombine input records=0\n",
            "\t\tCombine output records=0\n",
            "\t\tReduce input groups=6\n",
            "\t\tReduce shuffle bytes=1156\n",
            "\t\tReduce input records=60\n",
            "\t\tReduce output records=6\n",
            "\t\tSpilled Records=120\n",
            "\t\tShuffled Maps =1\n",
            "\t\tFailed Shuffles=0\n",
            "\t\tMerged Map outputs=1\n",
            "\t\tGC time elapsed (ms)=0\n",
            "\t\tTotal committed heap usage (bytes)=618659840\n",
            "\tShuffle Errors\n",
            "\t\tBAD_ID=0\n",
            "\t\tCONNECTION=0\n",
            "\t\tIO_ERROR=0\n",
            "\t\tWRONG_LENGTH=0\n",
            "\t\tWRONG_MAP=0\n",
            "\t\tWRONG_REDUCE=0\n",
            "\tFile Input Format Counters \n",
            "\t\tBytes Read=278\n",
            "\tFile Output Format Counters \n",
            "\t\tBytes Written=119\n",
            "2024-03-16 14:21:07,706 INFO streaming.StreamJob: Output directory: output\n"
          ]
        }
      ]
    },
    {
      "cell_type": "code",
      "source": [
        "!cat output/part-00000"
      ],
      "metadata": {
        "id": "UzRyGxseo3Go",
        "colab": {
          "base_uri": "https://localhost:8080/"
        },
        "outputId": "876fcbaf-27a7-413a-b725-cb8f5d6e56b3"
      },
      "execution_count": 23,
      "outputs": [
        {
          "output_type": "stream",
          "name": "stdout",
          "text": [
            "(0,1),90.000000\t\n",
            "(0,2),100.000000\t\n",
            "(1,0),110.000000\t\n",
            "(1,1),240.000000\t\n",
            "(1,2),275.000000\t\n",
            "(1,2),310.000000\t\n"
          ]
        }
      ]
    }
  ]
}