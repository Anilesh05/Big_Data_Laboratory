{
  "nbformat": 4,
  "nbformat_minor": 0,
  "metadata": {
    "colab": {
      "provenance": [],
      "include_colab_link": true
    },
    "kernelspec": {
      "name": "python3",
      "display_name": "Python 3"
    },
    "language_info": {
      "name": "python"
    }
  },
  "cells": [
    {
      "cell_type": "markdown",
      "metadata": {
        "id": "view-in-github",
        "colab_type": "text"
      },
      "source": [
        "<a href=\"https://colab.research.google.com/github/Anilesh05/Big_Data_Laboratory/blob/main/13_implement_k_means_clustering.ipynb\" target=\"_parent\"><img src=\"https://colab.research.google.com/assets/colab-badge.svg\" alt=\"Open In Colab\"/></a>"
      ]
    },
    {
      "cell_type": "markdown",
      "source": [
        "## Download and install the apache hadoop"
      ],
      "metadata": {
        "id": "Zi9bK5z88-Pc"
      }
    },
    {
      "cell_type": "code",
      "execution_count": null,
      "metadata": {
        "id": "Gp7HsNH56ldg",
        "colab": {
          "base_uri": "https://localhost:8080/"
        },
        "outputId": "a666f219-47df-4ef5-9a21-83b7cfb6edff"
      },
      "outputs": [
        {
          "output_type": "stream",
          "name": "stdout",
          "text": [
            "Reading package lists... Done\n",
            "Building dependency tree... Done\n",
            "Reading state information... Done\n",
            "The following additional packages will be installed:\n",
            "  fonts-dejavu-core fonts-dejavu-extra libatk-wrapper-java libatk-wrapper-java-jni libfontenc1\n",
            "  libgail-common libgail18 libgtk2.0-0 libgtk2.0-bin libgtk2.0-common libice-dev librsvg2-common\n",
            "  libsm-dev libxkbfile1 libxt-dev libxtst6 libxxf86dga1 openjdk-8-jdk-headless openjdk-8-jre\n",
            "  openjdk-8-jre-headless x11-utils\n",
            "Suggested packages:\n",
            "  gvfs libice-doc libsm-doc libxt-doc openjdk-8-demo openjdk-8-source visualvm libnss-mdns\n",
            "  fonts-nanum fonts-ipafont-gothic fonts-ipafont-mincho fonts-wqy-microhei fonts-wqy-zenhei\n",
            "  fonts-indic mesa-utils\n",
            "The following NEW packages will be installed:\n",
            "  fonts-dejavu-core fonts-dejavu-extra libatk-wrapper-java libatk-wrapper-java-jni libfontenc1\n",
            "  libgail-common libgail18 libgtk2.0-0 libgtk2.0-bin libgtk2.0-common libice-dev librsvg2-common\n",
            "  libsm-dev libxkbfile1 libxt-dev libxtst6 libxxf86dga1 openjdk-8-jdk openjdk-8-jdk-headless\n",
            "  openjdk-8-jre openjdk-8-jre-headless x11-utils\n",
            "0 upgraded, 22 newly installed, 0 to remove and 45 not upgraded.\n",
            "Need to get 50.1 MB of archives.\n",
            "After this operation, 169 MB of additional disk space will be used.\n",
            "Get:1 http://archive.ubuntu.com/ubuntu jammy/main amd64 fonts-dejavu-core all 2.37-2build1 [1,041 kB]\n",
            "Get:2 http://archive.ubuntu.com/ubuntu jammy/main amd64 fonts-dejavu-extra all 2.37-2build1 [2,041 kB]\n",
            "Get:3 http://archive.ubuntu.com/ubuntu jammy/main amd64 libfontenc1 amd64 1:1.1.4-1build3 [14.7 kB]\n",
            "Get:4 http://archive.ubuntu.com/ubuntu jammy/main amd64 libxkbfile1 amd64 1:1.1.0-1build3 [71.8 kB]\n",
            "Get:5 http://archive.ubuntu.com/ubuntu jammy/main amd64 libxtst6 amd64 2:1.2.3-1build4 [13.4 kB]\n",
            "Get:6 http://archive.ubuntu.com/ubuntu jammy/main amd64 libxxf86dga1 amd64 2:1.1.5-0ubuntu3 [12.6 kB]\n",
            "Get:7 http://archive.ubuntu.com/ubuntu jammy/main amd64 x11-utils amd64 7.7+5build2 [206 kB]\n",
            "Get:8 http://archive.ubuntu.com/ubuntu jammy/main amd64 libatk-wrapper-java all 0.38.0-5build1 [53.1 kB]\n",
            "Get:9 http://archive.ubuntu.com/ubuntu jammy/main amd64 libatk-wrapper-java-jni amd64 0.38.0-5build1 [49.0 kB]\n",
            "Get:10 http://archive.ubuntu.com/ubuntu jammy/main amd64 libgtk2.0-common all 2.24.33-2ubuntu2 [125 kB]\n",
            "Get:11 http://archive.ubuntu.com/ubuntu jammy/main amd64 libgtk2.0-0 amd64 2.24.33-2ubuntu2 [2,037 kB]\n",
            "Get:12 http://archive.ubuntu.com/ubuntu jammy/main amd64 libgail18 amd64 2.24.33-2ubuntu2 [15.9 kB]\n",
            "Get:13 http://archive.ubuntu.com/ubuntu jammy/main amd64 libgail-common amd64 2.24.33-2ubuntu2 [132 kB]\n",
            "Get:14 http://archive.ubuntu.com/ubuntu jammy/main amd64 libgtk2.0-bin amd64 2.24.33-2ubuntu2 [7,932 B]\n",
            "Get:15 http://archive.ubuntu.com/ubuntu jammy/main amd64 libice-dev amd64 2:1.0.10-1build2 [51.4 kB]\n",
            "Get:16 http://archive.ubuntu.com/ubuntu jammy-updates/main amd64 librsvg2-common amd64 2.52.5+dfsg-3ubuntu0.2 [17.7 kB]\n",
            "Get:17 http://archive.ubuntu.com/ubuntu jammy/main amd64 libsm-dev amd64 2:1.2.3-1build2 [18.1 kB]\n",
            "Get:18 http://archive.ubuntu.com/ubuntu jammy/main amd64 libxt-dev amd64 1:1.2.1-1 [396 kB]\n",
            "Get:19 http://archive.ubuntu.com/ubuntu jammy-updates/universe amd64 openjdk-8-jre-headless amd64 8u402-ga-2ubuntu1~22.04 [30.8 MB]\n",
            "Get:20 http://archive.ubuntu.com/ubuntu jammy-updates/universe amd64 openjdk-8-jre amd64 8u402-ga-2ubuntu1~22.04 [75.5 kB]\n",
            "Get:21 http://archive.ubuntu.com/ubuntu jammy-updates/universe amd64 openjdk-8-jdk-headless amd64 8u402-ga-2ubuntu1~22.04 [8,873 kB]\n",
            "Get:22 http://archive.ubuntu.com/ubuntu jammy-updates/universe amd64 openjdk-8-jdk amd64 8u402-ga-2ubuntu1~22.04 [4,068 kB]\n",
            "Fetched 50.1 MB in 1s (49.0 MB/s)\n",
            "Selecting previously unselected package fonts-dejavu-core.\n",
            "(Reading database ... 121752 files and directories currently installed.)\n",
            "Preparing to unpack .../00-fonts-dejavu-core_2.37-2build1_all.deb ...\n",
            "Unpacking fonts-dejavu-core (2.37-2build1) ...\n",
            "Selecting previously unselected package fonts-dejavu-extra.\n",
            "Preparing to unpack .../01-fonts-dejavu-extra_2.37-2build1_all.deb ...\n",
            "Unpacking fonts-dejavu-extra (2.37-2build1) ...\n",
            "Selecting previously unselected package libfontenc1:amd64.\n",
            "Preparing to unpack .../02-libfontenc1_1%3a1.1.4-1build3_amd64.deb ...\n",
            "Unpacking libfontenc1:amd64 (1:1.1.4-1build3) ...\n",
            "Selecting previously unselected package libxkbfile1:amd64.\n",
            "Preparing to unpack .../03-libxkbfile1_1%3a1.1.0-1build3_amd64.deb ...\n",
            "Unpacking libxkbfile1:amd64 (1:1.1.0-1build3) ...\n",
            "Selecting previously unselected package libxtst6:amd64.\n",
            "Preparing to unpack .../04-libxtst6_2%3a1.2.3-1build4_amd64.deb ...\n",
            "Unpacking libxtst6:amd64 (2:1.2.3-1build4) ...\n",
            "Selecting previously unselected package libxxf86dga1:amd64.\n",
            "Preparing to unpack .../05-libxxf86dga1_2%3a1.1.5-0ubuntu3_amd64.deb ...\n",
            "Unpacking libxxf86dga1:amd64 (2:1.1.5-0ubuntu3) ...\n",
            "Selecting previously unselected package x11-utils.\n",
            "Preparing to unpack .../06-x11-utils_7.7+5build2_amd64.deb ...\n",
            "Unpacking x11-utils (7.7+5build2) ...\n",
            "Selecting previously unselected package libatk-wrapper-java.\n",
            "Preparing to unpack .../07-libatk-wrapper-java_0.38.0-5build1_all.deb ...\n",
            "Unpacking libatk-wrapper-java (0.38.0-5build1) ...\n",
            "Selecting previously unselected package libatk-wrapper-java-jni:amd64.\n",
            "Preparing to unpack .../08-libatk-wrapper-java-jni_0.38.0-5build1_amd64.deb ...\n",
            "Unpacking libatk-wrapper-java-jni:amd64 (0.38.0-5build1) ...\n",
            "Selecting previously unselected package libgtk2.0-common.\n",
            "Preparing to unpack .../09-libgtk2.0-common_2.24.33-2ubuntu2_all.deb ...\n",
            "Unpacking libgtk2.0-common (2.24.33-2ubuntu2) ...\n",
            "Selecting previously unselected package libgtk2.0-0:amd64.\n",
            "Preparing to unpack .../10-libgtk2.0-0_2.24.33-2ubuntu2_amd64.deb ...\n",
            "Unpacking libgtk2.0-0:amd64 (2.24.33-2ubuntu2) ...\n",
            "Selecting previously unselected package libgail18:amd64.\n",
            "Preparing to unpack .../11-libgail18_2.24.33-2ubuntu2_amd64.deb ...\n",
            "Unpacking libgail18:amd64 (2.24.33-2ubuntu2) ...\n",
            "Selecting previously unselected package libgail-common:amd64.\n",
            "Preparing to unpack .../12-libgail-common_2.24.33-2ubuntu2_amd64.deb ...\n",
            "Unpacking libgail-common:amd64 (2.24.33-2ubuntu2) ...\n",
            "Selecting previously unselected package libgtk2.0-bin.\n",
            "Preparing to unpack .../13-libgtk2.0-bin_2.24.33-2ubuntu2_amd64.deb ...\n",
            "Unpacking libgtk2.0-bin (2.24.33-2ubuntu2) ...\n",
            "Selecting previously unselected package libice-dev:amd64.\n",
            "Preparing to unpack .../14-libice-dev_2%3a1.0.10-1build2_amd64.deb ...\n",
            "Unpacking libice-dev:amd64 (2:1.0.10-1build2) ...\n",
            "Selecting previously unselected package librsvg2-common:amd64.\n",
            "Preparing to unpack .../15-librsvg2-common_2.52.5+dfsg-3ubuntu0.2_amd64.deb ...\n",
            "Unpacking librsvg2-common:amd64 (2.52.5+dfsg-3ubuntu0.2) ...\n",
            "Selecting previously unselected package libsm-dev:amd64.\n",
            "Preparing to unpack .../16-libsm-dev_2%3a1.2.3-1build2_amd64.deb ...\n",
            "Unpacking libsm-dev:amd64 (2:1.2.3-1build2) ...\n",
            "Selecting previously unselected package libxt-dev:amd64.\n",
            "Preparing to unpack .../17-libxt-dev_1%3a1.2.1-1_amd64.deb ...\n",
            "Unpacking libxt-dev:amd64 (1:1.2.1-1) ...\n",
            "Selecting previously unselected package openjdk-8-jre-headless:amd64.\n",
            "Preparing to unpack .../18-openjdk-8-jre-headless_8u402-ga-2ubuntu1~22.04_amd64.deb ...\n",
            "Unpacking openjdk-8-jre-headless:amd64 (8u402-ga-2ubuntu1~22.04) ...\n",
            "Selecting previously unselected package openjdk-8-jre:amd64.\n",
            "Preparing to unpack .../19-openjdk-8-jre_8u402-ga-2ubuntu1~22.04_amd64.deb ...\n",
            "Unpacking openjdk-8-jre:amd64 (8u402-ga-2ubuntu1~22.04) ...\n",
            "Selecting previously unselected package openjdk-8-jdk-headless:amd64.\n",
            "Preparing to unpack .../20-openjdk-8-jdk-headless_8u402-ga-2ubuntu1~22.04_amd64.deb ...\n",
            "Unpacking openjdk-8-jdk-headless:amd64 (8u402-ga-2ubuntu1~22.04) ...\n",
            "Selecting previously unselected package openjdk-8-jdk:amd64.\n",
            "Preparing to unpack .../21-openjdk-8-jdk_8u402-ga-2ubuntu1~22.04_amd64.deb ...\n",
            "Unpacking openjdk-8-jdk:amd64 (8u402-ga-2ubuntu1~22.04) ...\n",
            "Setting up libice-dev:amd64 (2:1.0.10-1build2) ...\n",
            "Setting up libsm-dev:amd64 (2:1.2.3-1build2) ...\n",
            "Setting up libxtst6:amd64 (2:1.2.3-1build4) ...\n",
            "Setting up libxxf86dga1:amd64 (2:1.1.5-0ubuntu3) ...\n",
            "Setting up libfontenc1:amd64 (1:1.1.4-1build3) ...\n",
            "Setting up libxt-dev:amd64 (1:1.2.1-1) ...\n",
            "Setting up openjdk-8-jre-headless:amd64 (8u402-ga-2ubuntu1~22.04) ...\n",
            "update-alternatives: using /usr/lib/jvm/java-8-openjdk-amd64/jre/bin/orbd to provide /usr/bin/orbd (orbd) in auto mode\n",
            "update-alternatives: using /usr/lib/jvm/java-8-openjdk-amd64/jre/bin/servertool to provide /usr/bin/servertool (servertool) in auto mode\n",
            "update-alternatives: using /usr/lib/jvm/java-8-openjdk-amd64/jre/bin/tnameserv to provide /usr/bin/tnameserv (tnameserv) in auto mode\n",
            "Setting up fonts-dejavu-core (2.37-2build1) ...\n",
            "Setting up librsvg2-common:amd64 (2.52.5+dfsg-3ubuntu0.2) ...\n",
            "Setting up fonts-dejavu-extra (2.37-2build1) ...\n",
            "Setting up libgtk2.0-common (2.24.33-2ubuntu2) ...\n",
            "Setting up libxkbfile1:amd64 (1:1.1.0-1build3) ...\n",
            "Setting up libgtk2.0-0:amd64 (2.24.33-2ubuntu2) ...\n",
            "Setting up openjdk-8-jdk-headless:amd64 (8u402-ga-2ubuntu1~22.04) ...\n",
            "update-alternatives: using /usr/lib/jvm/java-8-openjdk-amd64/bin/clhsdb to provide /usr/bin/clhsdb (clhsdb) in auto mode\n",
            "update-alternatives: using /usr/lib/jvm/java-8-openjdk-amd64/bin/extcheck to provide /usr/bin/extcheck (extcheck) in auto mode\n",
            "update-alternatives: using /usr/lib/jvm/java-8-openjdk-amd64/bin/hsdb to provide /usr/bin/hsdb (hsdb) in auto mode\n",
            "update-alternatives: using /usr/lib/jvm/java-8-openjdk-amd64/bin/idlj to provide /usr/bin/idlj (idlj) in auto mode\n",
            "update-alternatives: using /usr/lib/jvm/java-8-openjdk-amd64/bin/javah to provide /usr/bin/javah (javah) in auto mode\n",
            "update-alternatives: using /usr/lib/jvm/java-8-openjdk-amd64/bin/jhat to provide /usr/bin/jhat (jhat) in auto mode\n",
            "update-alternatives: using /usr/lib/jvm/java-8-openjdk-amd64/bin/jsadebugd to provide /usr/bin/jsadebugd (jsadebugd) in auto mode\n",
            "update-alternatives: using /usr/lib/jvm/java-8-openjdk-amd64/bin/native2ascii to provide /usr/bin/native2ascii (native2ascii) in auto mode\n",
            "update-alternatives: using /usr/lib/jvm/java-8-openjdk-amd64/bin/schemagen to provide /usr/bin/schemagen (schemagen) in auto mode\n",
            "update-alternatives: using /usr/lib/jvm/java-8-openjdk-amd64/bin/wsgen to provide /usr/bin/wsgen (wsgen) in auto mode\n",
            "update-alternatives: using /usr/lib/jvm/java-8-openjdk-amd64/bin/wsimport to provide /usr/bin/wsimport (wsimport) in auto mode\n",
            "update-alternatives: using /usr/lib/jvm/java-8-openjdk-amd64/bin/xjc to provide /usr/bin/xjc (xjc) in auto mode\n",
            "Setting up libgail18:amd64 (2.24.33-2ubuntu2) ...\n",
            "Setting up libgtk2.0-bin (2.24.33-2ubuntu2) ...\n",
            "Setting up x11-utils (7.7+5build2) ...\n",
            "Setting up libatk-wrapper-java (0.38.0-5build1) ...\n",
            "Setting up libgail-common:amd64 (2.24.33-2ubuntu2) ...\n",
            "Setting up libatk-wrapper-java-jni:amd64 (0.38.0-5build1) ...\n",
            "Setting up openjdk-8-jre:amd64 (8u402-ga-2ubuntu1~22.04) ...\n",
            "update-alternatives: using /usr/lib/jvm/java-8-openjdk-amd64/jre/bin/policytool to provide /usr/bin/policytool (policytool) in auto mode\n",
            "Setting up openjdk-8-jdk:amd64 (8u402-ga-2ubuntu1~22.04) ...\n",
            "update-alternatives: using /usr/lib/jvm/java-8-openjdk-amd64/bin/appletviewer to provide /usr/bin/appletviewer (appletviewer) in auto mode\n",
            "update-alternatives: using /usr/lib/jvm/java-8-openjdk-amd64/bin/jconsole to provide /usr/bin/jconsole (jconsole) in auto mode\n",
            "Processing triggers for hicolor-icon-theme (0.17-2) ...\n",
            "Processing triggers for libc-bin (2.35-0ubuntu3.4) ...\n",
            "/sbin/ldconfig.real: /usr/local/lib/libtbb.so.12 is not a symbolic link\n",
            "\n",
            "/sbin/ldconfig.real: /usr/local/lib/libtbbbind_2_5.so.3 is not a symbolic link\n",
            "\n",
            "/sbin/ldconfig.real: /usr/local/lib/libtbbbind.so.3 is not a symbolic link\n",
            "\n",
            "/sbin/ldconfig.real: /usr/local/lib/libtbbmalloc_proxy.so.2 is not a symbolic link\n",
            "\n",
            "/sbin/ldconfig.real: /usr/local/lib/libtbbmalloc.so.2 is not a symbolic link\n",
            "\n",
            "/sbin/ldconfig.real: /usr/local/lib/libtbbbind_2_0.so.3 is not a symbolic link\n",
            "\n",
            "Processing triggers for man-db (2.10.2-1) ...\n",
            "Processing triggers for libgdk-pixbuf-2.0-0:amd64 (2.42.8+dfsg-1ubuntu0.2) ...\n",
            "Processing triggers for fontconfig (2.13.1-4.2ubuntu5) ...\n",
            "--2024-04-14 16:29:26--  https://dlcdn.apache.org/hadoop/common/hadoop-3.3.6/hadoop-3.3.6.tar.gz\n",
            "Resolving dlcdn.apache.org (dlcdn.apache.org)... 151.101.2.132, 2a04:4e42::644\n",
            "Connecting to dlcdn.apache.org (dlcdn.apache.org)|151.101.2.132|:443... connected.\n",
            "HTTP request sent, awaiting response... 200 OK\n",
            "Length: 730107476 (696M) [application/x-gzip]\n",
            "Saving to: ‘hadoop-3.3.6.tar.gz’\n",
            "\n",
            "hadoop-3.3.6.tar.gz 100%[===================>] 696.28M   238MB/s    in 2.9s    \n",
            "\n",
            "2024-04-14 16:29:29 (238 MB/s) - ‘hadoop-3.3.6.tar.gz’ saved [730107476/730107476]\n",
            "\n"
          ]
        }
      ],
      "source": [
        "!apt-get install openjdk-8-jdk\n",
        "!wget https://dlcdn.apache.org/hadoop/common/hadoop-3.3.6/hadoop-3.3.6.tar.gz\n",
        "!tar fx hadoop-3.3.6.tar.gz\n",
        "import os\n",
        "os.environ[\"JAVA_HOME\"] = \"/usr/lib/jvm/java-8-openjdk-amd64\"\n",
        "os.environ[\"HADOOP_HOME\"] = \"/content/hadoop-3.3.6\"\n",
        "!ln -s /content/hadoop-3.3.6/bin/* /usr/bin"
      ]
    },
    {
      "cell_type": "markdown",
      "source": [
        "## Create mapper.py"
      ],
      "metadata": {
        "id": "VZw1ck6fCgBc"
      }
    },
    {
      "cell_type": "code",
      "source": [
        "%%writefile mapper.py\n",
        "#!/usr/bin/env python\n",
        "\n",
        "import sys\n",
        "import numpy as np\n",
        "\n",
        "# Load centroids from file\n",
        "centroids = np.loadtxt('centroids.txt', delimiter=',')\n",
        "\n",
        "# Function to calculate Euclidean distance\n",
        "euclidean_distance = lambda point1, point2: np.sqrt(np.sum((point1 - point2) ** 2))\n",
        "\n",
        "# Input comes from STDIN\n",
        "for line in sys.stdin:\n",
        "    # Parse the data point\n",
        "    point = np.array([float(field) for field in line.strip().split(',')])\n",
        "    # Find the closest centroid for the data point\n",
        "    closest_centroid = min(range(len(centroids)), key=lambda i: euclidean_distance(point, centroids[i]))\n",
        "    # Emit the closest centroid ID and the data point\n",
        "    print(f'{closest_centroid}\\t{\",\".join(map(str, point))}')\n"
      ],
      "metadata": {
        "colab": {
          "base_uri": "https://localhost:8080/"
        },
        "id": "WQRQ9hrFZeBr",
        "outputId": "4650da94-8005-4185-a7f4-fcd8ad09fe56"
      },
      "execution_count": null,
      "outputs": [
        {
          "output_type": "stream",
          "name": "stdout",
          "text": [
            "Writing mapper.py\n"
          ]
        }
      ]
    },
    {
      "cell_type": "code",
      "source": [
        "%%writefile reducer.py\n",
        "#!/usr/bin/env python\n",
        "\n",
        "import sys\n",
        "import numpy as np\n",
        "\n",
        "# Initialize a dictionary to store centroids and their associated points\n",
        "centroids = {}\n",
        "\n",
        "# Read input from stdin\n",
        "for line in sys.stdin:\n",
        "    # Parse the centroid ID and point coordinates from the input line\n",
        "    centroid_id, point_str = line.strip().split('\\t', 1)\n",
        "    # Convert the point coordinates to a NumPy array\n",
        "    point = np.array(list(map(float, point_str.split(','))))\n",
        "    # Add the point to the list of points associated with the centroid ID\n",
        "    centroids.setdefault(centroid_id, []).append(point)\n",
        "\n",
        "# Calculate new centroids\n",
        "# Calculate new centroids\n",
        "print(\"Cluster ID\\tCluster Centroid(X,Y)\")\n",
        "print()\n",
        "\n",
        "for centroid_id, points in centroids.items():\n",
        "    # Compute the mean of all points associated with the centroid\n",
        "    new_centroid = np.mean(points, axis=0)\n",
        "    # Print the centroid ID and its new coordinates\n",
        "    print(f'{centroid_id}\\t\\t{\",\".join(map(str, new_centroid))}')\n"
      ],
      "metadata": {
        "colab": {
          "base_uri": "https://localhost:8080/"
        },
        "id": "n42PsK4Ra4uv",
        "outputId": "7cb32090-31d5-47f0-ad9f-d6c8ff197379"
      },
      "execution_count": null,
      "outputs": [
        {
          "output_type": "stream",
          "name": "stdout",
          "text": [
            "Writing reducer.py\n"
          ]
        }
      ]
    },
    {
      "cell_type": "markdown",
      "source": [
        "## Create Input Directory"
      ],
      "metadata": {
        "id": "KY0k9xzzCp-8"
      }
    },
    {
      "cell_type": "code",
      "source": [
        "!mkdir input"
      ],
      "metadata": {
        "id": "mQtG3LtRBICN"
      },
      "execution_count": null,
      "outputs": []
    },
    {
      "cell_type": "markdown",
      "source": [
        "## Write input file"
      ],
      "metadata": {
        "id": "yxYjNtCmCtud"
      }
    },
    {
      "cell_type": "code",
      "source": [
        "%%writefile centroids.txt\n",
        "1.0,2.0\n",
        "5.0,6.0\n",
        "10.0,11.0"
      ],
      "metadata": {
        "colab": {
          "base_uri": "https://localhost:8080/"
        },
        "id": "ymK_CwxAg-x6",
        "outputId": "3bc7622f-b196-434d-afc3-df0b42abe3b3"
      },
      "execution_count": null,
      "outputs": [
        {
          "output_type": "stream",
          "name": "stdout",
          "text": [
            "Writing centroids.txt\n"
          ]
        }
      ]
    },
    {
      "cell_type": "code",
      "source": [
        "%%writefile input/text.txt\n",
        "1.0,2.0\n",
        "2.0,3.0\n",
        "3.0,4.0\n",
        "4.0,5.0\n",
        "5.0,6.0\n",
        "6.0,7.0\n",
        "7.0,8.0\n",
        "8.0,9.0\n",
        "9.0,10.0\n",
        "10.0,11.0\n",
        "11.0,12.0\n",
        "12.0,13.0\n",
        "13.0,14.0\n",
        "14.0,15.0\n",
        "15.0,16.0"
      ],
      "metadata": {
        "colab": {
          "base_uri": "https://localhost:8080/"
        },
        "id": "drJkRCHchBp1",
        "outputId": "aefee5f2-9659-470b-ce7b-970d34d6e76d"
      },
      "execution_count": null,
      "outputs": [
        {
          "output_type": "stream",
          "name": "stdout",
          "text": [
            "Writing input/text.txt\n"
          ]
        }
      ]
    },
    {
      "cell_type": "markdown",
      "source": [
        "## Run hadoop mapreduce"
      ],
      "metadata": {
        "id": "BAs7r8swCyB1"
      }
    },
    {
      "cell_type": "code",
      "source": [
        "!hadoop jar /content/hadoop-3.3.6/share/hadoop/tools/lib/hadoop-streaming-3.3.6.jar \\\n",
        "    -files mapper.py,reducer.py \\\n",
        "    -mapper mapper.py \\\n",
        "    -reducer reducer.py \\\n",
        "    -input input \\\n",
        "    -output output1"
      ],
      "metadata": {
        "colab": {
          "base_uri": "https://localhost:8080/"
        },
        "id": "Td6jgpHGBYZ2",
        "outputId": "d8d8b73f-c284-40bb-8732-9da8b1dd24a2"
      },
      "execution_count": null,
      "outputs": [
        {
          "output_type": "stream",
          "name": "stdout",
          "text": [
            "2024-04-14 16:29:48,325 INFO impl.MetricsConfig: Loaded properties from hadoop-metrics2.properties\n",
            "2024-04-14 16:29:48,428 INFO impl.MetricsSystemImpl: Scheduled Metric snapshot period at 10 second(s).\n",
            "2024-04-14 16:29:48,429 INFO impl.MetricsSystemImpl: JobTracker metrics system started\n",
            "2024-04-14 16:29:48,454 WARN impl.MetricsSystemImpl: JobTracker metrics system already initialized!\n",
            "2024-04-14 16:29:48,757 INFO mapred.FileInputFormat: Total input files to process : 1\n",
            "2024-04-14 16:29:48,779 INFO mapreduce.JobSubmitter: number of splits:1\n",
            "2024-04-14 16:29:48,948 INFO mapreduce.JobSubmitter: Submitting tokens for job: job_local1300433353_0001\n",
            "2024-04-14 16:29:48,948 INFO mapreduce.JobSubmitter: Executing with tokens: []\n",
            "2024-04-14 16:29:49,289 INFO mapred.LocalDistributedCacheManager: Localized file:/content/mapper.py as file:/tmp/hadoop-root/mapred/local/job_local1300433353_0001_7ee1d4f0-c5d6-4a70-bccd-a149a9469313/mapper.py\n",
            "2024-04-14 16:29:49,320 INFO mapred.LocalDistributedCacheManager: Localized file:/content/reducer.py as file:/tmp/hadoop-root/mapred/local/job_local1300433353_0001_646fc44e-b0d9-4f2f-8a04-586861f2b39e/reducer.py\n",
            "2024-04-14 16:29:49,534 INFO mapreduce.Job: The url to track the job: http://localhost:8080/\n",
            "2024-04-14 16:29:49,536 INFO mapreduce.Job: Running job: job_local1300433353_0001\n",
            "2024-04-14 16:29:49,547 INFO mapred.LocalJobRunner: OutputCommitter set in config null\n",
            "2024-04-14 16:29:49,550 INFO mapred.LocalJobRunner: OutputCommitter is org.apache.hadoop.mapred.FileOutputCommitter\n",
            "2024-04-14 16:29:49,646 INFO output.FileOutputCommitter: File Output Committer Algorithm version is 2\n",
            "2024-04-14 16:29:49,646 INFO output.FileOutputCommitter: FileOutputCommitter skip cleanup _temporary folders under output directory:false, ignore cleanup failures: false\n",
            "2024-04-14 16:29:49,704 INFO mapred.LocalJobRunner: Waiting for map tasks\n",
            "2024-04-14 16:29:49,709 INFO mapred.LocalJobRunner: Starting task: attempt_local1300433353_0001_m_000000_0\n",
            "2024-04-14 16:29:49,748 INFO output.FileOutputCommitter: File Output Committer Algorithm version is 2\n",
            "2024-04-14 16:29:49,748 INFO output.FileOutputCommitter: FileOutputCommitter skip cleanup _temporary folders under output directory:false, ignore cleanup failures: false\n",
            "2024-04-14 16:29:49,770 INFO mapred.Task:  Using ResourceCalculatorProcessTree : [ ]\n",
            "2024-04-14 16:29:49,780 INFO mapred.MapTask: Processing split: file:/content/input/text.txt:0+133\n",
            "2024-04-14 16:29:49,795 INFO mapred.MapTask: numReduceTasks: 1\n",
            "2024-04-14 16:29:49,888 INFO mapred.MapTask: (EQUATOR) 0 kvi 26214396(104857584)\n",
            "2024-04-14 16:29:49,888 INFO mapred.MapTask: mapreduce.task.io.sort.mb: 100\n",
            "2024-04-14 16:29:49,888 INFO mapred.MapTask: soft limit at 83886080\n",
            "2024-04-14 16:29:49,888 INFO mapred.MapTask: bufstart = 0; bufvoid = 104857600\n",
            "2024-04-14 16:29:49,888 INFO mapred.MapTask: kvstart = 26214396; length = 6553600\n",
            "2024-04-14 16:29:49,891 INFO mapred.MapTask: Map output collector class = org.apache.hadoop.mapred.MapTask$MapOutputBuffer\n",
            "2024-04-14 16:29:49,901 INFO streaming.PipeMapRed: PipeMapRed exec [/content/./mapper.py]\n",
            "2024-04-14 16:29:49,906 INFO Configuration.deprecation: mapred.work.output.dir is deprecated. Instead, use mapreduce.task.output.dir\n",
            "2024-04-14 16:29:49,908 INFO Configuration.deprecation: mapred.local.dir is deprecated. Instead, use mapreduce.cluster.local.dir\n",
            "2024-04-14 16:29:49,908 INFO Configuration.deprecation: map.input.file is deprecated. Instead, use mapreduce.map.input.file\n",
            "2024-04-14 16:29:49,909 INFO Configuration.deprecation: map.input.length is deprecated. Instead, use mapreduce.map.input.length\n",
            "2024-04-14 16:29:49,909 INFO Configuration.deprecation: mapred.job.id is deprecated. Instead, use mapreduce.job.id\n",
            "2024-04-14 16:29:49,910 INFO Configuration.deprecation: mapred.task.partition is deprecated. Instead, use mapreduce.task.partition\n",
            "2024-04-14 16:29:49,911 INFO Configuration.deprecation: map.input.start is deprecated. Instead, use mapreduce.map.input.start\n",
            "2024-04-14 16:29:49,912 INFO Configuration.deprecation: mapred.task.is.map is deprecated. Instead, use mapreduce.task.ismap\n",
            "2024-04-14 16:29:49,912 INFO Configuration.deprecation: mapred.task.id is deprecated. Instead, use mapreduce.task.attempt.id\n",
            "2024-04-14 16:29:49,912 INFO Configuration.deprecation: mapred.tip.id is deprecated. Instead, use mapreduce.task.id\n",
            "2024-04-14 16:29:49,913 INFO Configuration.deprecation: mapred.skip.on is deprecated. Instead, use mapreduce.job.skiprecords\n",
            "2024-04-14 16:29:49,913 INFO Configuration.deprecation: user.name is deprecated. Instead, use mapreduce.job.user.name\n",
            "2024-04-14 16:29:49,942 INFO streaming.PipeMapRed: R/W/S=1/0/0 in:NA [rec/s] out:NA [rec/s]\n",
            "2024-04-14 16:29:49,942 INFO streaming.PipeMapRed: R/W/S=10/0/0 in:NA [rec/s] out:NA [rec/s]\n",
            "2024-04-14 16:29:50,162 INFO streaming.PipeMapRed: Records R/W=15/1\n",
            "2024-04-14 16:29:50,195 INFO streaming.PipeMapRed: MRErrorThread done\n",
            "2024-04-14 16:29:50,197 INFO streaming.PipeMapRed: mapRedFinished\n",
            "2024-04-14 16:29:50,201 INFO mapred.LocalJobRunner: \n",
            "2024-04-14 16:29:50,202 INFO mapred.MapTask: Starting flush of map output\n",
            "2024-04-14 16:29:50,202 INFO mapred.MapTask: Spilling map output\n",
            "2024-04-14 16:29:50,202 INFO mapred.MapTask: bufstart = 0; bufend = 163; bufvoid = 104857600\n",
            "2024-04-14 16:29:50,202 INFO mapred.MapTask: kvstart = 26214396(104857584); kvend = 26214340(104857360); length = 57/6553600\n",
            "2024-04-14 16:29:50,211 INFO mapred.MapTask: Finished spill 0\n",
            "2024-04-14 16:29:50,230 INFO mapred.Task: Task:attempt_local1300433353_0001_m_000000_0 is done. And is in the process of committing\n",
            "2024-04-14 16:29:50,234 INFO mapred.LocalJobRunner: Records R/W=15/1\n",
            "2024-04-14 16:29:50,234 INFO mapred.Task: Task 'attempt_local1300433353_0001_m_000000_0' done.\n",
            "2024-04-14 16:29:50,245 INFO mapred.Task: Final Counters for attempt_local1300433353_0001_m_000000_0: Counters: 17\n",
            "\tFile System Counters\n",
            "\t\tFILE: Number of bytes read=143160\n",
            "\t\tFILE: Number of bytes written=787521\n",
            "\t\tFILE: Number of read operations=0\n",
            "\t\tFILE: Number of large read operations=0\n",
            "\t\tFILE: Number of write operations=0\n",
            "\tMap-Reduce Framework\n",
            "\t\tMap input records=15\n",
            "\t\tMap output records=15\n",
            "\t\tMap output bytes=163\n",
            "\t\tMap output materialized bytes=199\n",
            "\t\tInput split bytes=80\n",
            "\t\tCombine input records=0\n",
            "\t\tSpilled Records=15\n",
            "\t\tFailed Shuffles=0\n",
            "\t\tMerged Map outputs=0\n",
            "\t\tGC time elapsed (ms)=0\n",
            "\t\tTotal committed heap usage (bytes)=314048512\n",
            "\tFile Input Format Counters \n",
            "\t\tBytes Read=133\n",
            "2024-04-14 16:29:50,246 INFO mapred.LocalJobRunner: Finishing task: attempt_local1300433353_0001_m_000000_0\n",
            "2024-04-14 16:29:50,246 INFO mapred.LocalJobRunner: map task executor complete.\n",
            "2024-04-14 16:29:50,249 INFO mapred.LocalJobRunner: Waiting for reduce tasks\n",
            "2024-04-14 16:29:50,250 INFO mapred.LocalJobRunner: Starting task: attempt_local1300433353_0001_r_000000_0\n",
            "2024-04-14 16:29:50,258 INFO output.FileOutputCommitter: File Output Committer Algorithm version is 2\n",
            "2024-04-14 16:29:50,258 INFO output.FileOutputCommitter: FileOutputCommitter skip cleanup _temporary folders under output directory:false, ignore cleanup failures: false\n",
            "2024-04-14 16:29:50,258 INFO mapred.Task:  Using ResourceCalculatorProcessTree : [ ]\n",
            "2024-04-14 16:29:50,262 INFO mapred.ReduceTask: Using ShuffleConsumerPlugin: org.apache.hadoop.mapreduce.task.reduce.Shuffle@2db9468a\n",
            "2024-04-14 16:29:50,265 WARN impl.MetricsSystemImpl: JobTracker metrics system already initialized!\n",
            "2024-04-14 16:29:50,285 INFO reduce.MergeManagerImpl: MergerManager: memoryLimit=2117966208, maxSingleShuffleLimit=529491552, mergeThreshold=1397857792, ioSortFactor=10, memToMemMergeOutputsThreshold=10\n",
            "2024-04-14 16:29:50,288 INFO reduce.EventFetcher: attempt_local1300433353_0001_r_000000_0 Thread started: EventFetcher for fetching Map Completion Events\n",
            "2024-04-14 16:29:50,326 INFO reduce.LocalFetcher: localfetcher#1 about to shuffle output of map attempt_local1300433353_0001_m_000000_0 decomp: 195 len: 199 to MEMORY\n",
            "2024-04-14 16:29:50,333 INFO reduce.InMemoryMapOutput: Read 195 bytes from map-output for attempt_local1300433353_0001_m_000000_0\n",
            "2024-04-14 16:29:50,335 INFO reduce.MergeManagerImpl: closeInMemoryFile -> map-output of size: 195, inMemoryMapOutputs.size() -> 1, commitMemory -> 0, usedMemory ->195\n",
            "2024-04-14 16:29:50,337 INFO reduce.EventFetcher: EventFetcher is interrupted.. Returning\n",
            "2024-04-14 16:29:50,338 INFO mapred.LocalJobRunner: 1 / 1 copied.\n",
            "2024-04-14 16:29:50,339 INFO reduce.MergeManagerImpl: finalMerge called with 1 in-memory map-outputs and 0 on-disk map-outputs\n",
            "2024-04-14 16:29:50,353 INFO mapred.Merger: Merging 1 sorted segments\n",
            "2024-04-14 16:29:50,353 INFO mapred.Merger: Down to the last merge-pass, with 1 segments left of total size: 191 bytes\n",
            "2024-04-14 16:29:50,356 INFO reduce.MergeManagerImpl: Merged 1 segments, 195 bytes to disk to satisfy reduce memory limit\n",
            "2024-04-14 16:29:50,358 INFO reduce.MergeManagerImpl: Merging 1 files, 199 bytes from disk\n",
            "2024-04-14 16:29:50,359 INFO reduce.MergeManagerImpl: Merging 0 segments, 0 bytes from memory into reduce\n",
            "2024-04-14 16:29:50,359 INFO mapred.Merger: Merging 1 sorted segments\n",
            "2024-04-14 16:29:50,360 INFO mapred.Merger: Down to the last merge-pass, with 1 segments left of total size: 191 bytes\n",
            "2024-04-14 16:29:50,360 INFO mapred.LocalJobRunner: 1 / 1 copied.\n",
            "2024-04-14 16:29:50,373 INFO streaming.PipeMapRed: PipeMapRed exec [/content/./reducer.py]\n",
            "2024-04-14 16:29:50,376 INFO Configuration.deprecation: mapred.job.tracker is deprecated. Instead, use mapreduce.jobtracker.address\n",
            "2024-04-14 16:29:50,379 INFO Configuration.deprecation: mapred.map.tasks is deprecated. Instead, use mapreduce.job.maps\n",
            "2024-04-14 16:29:50,405 INFO streaming.PipeMapRed: R/W/S=1/0/0 in:NA [rec/s] out:NA [rec/s]\n",
            "2024-04-14 16:29:50,406 INFO streaming.PipeMapRed: R/W/S=10/0/0 in:NA [rec/s] out:NA [rec/s]\n",
            "2024-04-14 16:29:50,547 INFO mapreduce.Job: Job job_local1300433353_0001 running in uber mode : false\n",
            "2024-04-14 16:29:50,548 INFO mapreduce.Job:  map 100% reduce 0%\n",
            "2024-04-14 16:29:50,640 INFO streaming.PipeMapRed: Records R/W=15/1\n",
            "2024-04-14 16:29:50,666 INFO streaming.PipeMapRed: MRErrorThread done\n",
            "2024-04-14 16:29:50,667 INFO streaming.PipeMapRed: mapRedFinished\n",
            "2024-04-14 16:29:50,668 INFO mapred.Task: Task:attempt_local1300433353_0001_r_000000_0 is done. And is in the process of committing\n",
            "2024-04-14 16:29:50,669 INFO mapred.LocalJobRunner: 1 / 1 copied.\n",
            "2024-04-14 16:29:50,671 INFO mapred.Task: Task attempt_local1300433353_0001_r_000000_0 is allowed to commit now\n",
            "2024-04-14 16:29:50,673 INFO output.FileOutputCommitter: Saved output of task 'attempt_local1300433353_0001_r_000000_0' to file:/content/output1\n",
            "2024-04-14 16:29:50,674 INFO mapred.LocalJobRunner: Records R/W=15/1 > reduce\n",
            "2024-04-14 16:29:50,674 INFO mapred.Task: Task 'attempt_local1300433353_0001_r_000000_0' done.\n",
            "2024-04-14 16:29:50,675 INFO mapred.Task: Final Counters for attempt_local1300433353_0001_r_000000_0: Counters: 24\n",
            "\tFile System Counters\n",
            "\t\tFILE: Number of bytes read=143590\n",
            "\t\tFILE: Number of bytes written=787802\n",
            "\t\tFILE: Number of read operations=0\n",
            "\t\tFILE: Number of large read operations=0\n",
            "\t\tFILE: Number of write operations=0\n",
            "\tMap-Reduce Framework\n",
            "\t\tCombine input records=0\n",
            "\t\tCombine output records=0\n",
            "\t\tReduce input groups=3\n",
            "\t\tReduce shuffle bytes=199\n",
            "\t\tReduce input records=15\n",
            "\t\tReduce output records=5\n",
            "\t\tSpilled Records=15\n",
            "\t\tShuffled Maps =1\n",
            "\t\tFailed Shuffles=0\n",
            "\t\tMerged Map outputs=1\n",
            "\t\tGC time elapsed (ms)=0\n",
            "\t\tTotal committed heap usage (bytes)=314048512\n",
            "\tShuffle Errors\n",
            "\t\tBAD_ID=0\n",
            "\t\tCONNECTION=0\n",
            "\t\tIO_ERROR=0\n",
            "\t\tWRONG_LENGTH=0\n",
            "\t\tWRONG_MAP=0\n",
            "\t\tWRONG_REDUCE=0\n",
            "\tFile Output Format Counters \n",
            "\t\tBytes Written=82\n",
            "2024-04-14 16:29:50,675 INFO mapred.LocalJobRunner: Finishing task: attempt_local1300433353_0001_r_000000_0\n",
            "2024-04-14 16:29:50,675 INFO mapred.LocalJobRunner: reduce task executor complete.\n",
            "2024-04-14 16:29:51,550 INFO mapreduce.Job:  map 100% reduce 100%\n",
            "2024-04-14 16:29:51,551 INFO mapreduce.Job: Job job_local1300433353_0001 completed successfully\n",
            "2024-04-14 16:29:51,562 INFO mapreduce.Job: Counters: 30\n",
            "\tFile System Counters\n",
            "\t\tFILE: Number of bytes read=286750\n",
            "\t\tFILE: Number of bytes written=1575323\n",
            "\t\tFILE: Number of read operations=0\n",
            "\t\tFILE: Number of large read operations=0\n",
            "\t\tFILE: Number of write operations=0\n",
            "\tMap-Reduce Framework\n",
            "\t\tMap input records=15\n",
            "\t\tMap output records=15\n",
            "\t\tMap output bytes=163\n",
            "\t\tMap output materialized bytes=199\n",
            "\t\tInput split bytes=80\n",
            "\t\tCombine input records=0\n",
            "\t\tCombine output records=0\n",
            "\t\tReduce input groups=3\n",
            "\t\tReduce shuffle bytes=199\n",
            "\t\tReduce input records=15\n",
            "\t\tReduce output records=5\n",
            "\t\tSpilled Records=30\n",
            "\t\tShuffled Maps =1\n",
            "\t\tFailed Shuffles=0\n",
            "\t\tMerged Map outputs=1\n",
            "\t\tGC time elapsed (ms)=0\n",
            "\t\tTotal committed heap usage (bytes)=628097024\n",
            "\tShuffle Errors\n",
            "\t\tBAD_ID=0\n",
            "\t\tCONNECTION=0\n",
            "\t\tIO_ERROR=0\n",
            "\t\tWRONG_LENGTH=0\n",
            "\t\tWRONG_MAP=0\n",
            "\t\tWRONG_REDUCE=0\n",
            "\tFile Input Format Counters \n",
            "\t\tBytes Read=133\n",
            "\tFile Output Format Counters \n",
            "\t\tBytes Written=82\n",
            "2024-04-14 16:29:51,562 INFO streaming.StreamJob: Output directory: output1\n"
          ]
        }
      ]
    },
    {
      "cell_type": "markdown",
      "source": [
        "## Display Output"
      ],
      "metadata": {
        "id": "DWOni8kIC4pf"
      }
    },
    {
      "cell_type": "code",
      "source": [
        "!cat output1/part-00000"
      ],
      "metadata": {
        "colab": {
          "base_uri": "https://localhost:8080/"
        },
        "id": "6C0z6ECpJCBI",
        "outputId": "665698d9-563d-4c62-fed1-318114d58b0c"
      },
      "execution_count": null,
      "outputs": [
        {
          "output_type": "stream",
          "name": "stdout",
          "text": [
            "Cluster ID\tCluster Centroid(X,Y)\n",
            "\t\n",
            "0\t\t2.0,3.0\n",
            "1\t\t5.5,6.5\n",
            "2\t\t11.5,12.5\n"
          ]
        }
      ]
    }
  ]
}